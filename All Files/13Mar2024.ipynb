{
 "cells": [
  {
   "cell_type": "code",
   "execution_count": 1,
   "metadata": {},
   "outputs": [
    {
     "name": "stdout",
     "output_type": "stream",
     "text": [
      "Kababji\n",
      "chinesse\n",
      "The restaurant name is Kababji\n",
      "The resturant cuisine type is chinesse\n",
      "Restaurant is open now\n",
      "0\n",
      "20\n",
      "21\n"
     ]
    }
   ],
   "source": [
    "class Restaurant():\n",
    "    def __init__(self,restaurant_name,cuisine_type):\n",
    "        self.restaurant_name=restaurant_name\n",
    "        self.cuisine_type = cuisine_type\n",
    "        self.number_served = 0\n",
    "        \n",
    "    def describe_restaurant(self):\n",
    "        print(f\"The restaurant name is {self.restaurant_name}\")\n",
    "        print(f\"The resturant cuisine type is {self.cuisine_type}\")\n",
    "    def open(self):\n",
    "        print(\"Restaurant is open now\")\n",
    "    def get_number_served(self):\n",
    "        print(self.number_served)\n",
    "    def set_number_served(self, newnumber):\n",
    "        self.number_served = newnumber\n",
    "    def increment_number_served(self):\n",
    "        self.number_served +=1\n",
    "        \n",
    "restaurant = Restaurant('Kababji', 'chinesse')\n",
    "print(restaurant.restaurant_name)\n",
    "print(restaurant.cuisine_type)\n",
    "restaurant.describe_restaurant()\n",
    "restaurant.open()\n",
    "restaurant.get_number_served()\n",
    "restaurant.set_number_served(20)\n",
    "restaurant.get_number_served()\n",
    "restaurant.increment_number_served()\n",
    "restaurant.get_number_served()"
   ]
  },
  {
   "cell_type": "code",
   "execution_count": 7,
   "metadata": {},
   "outputs": [],
   "source": [
    "class IceCreamStand(Restaurant):\n",
    "    def __init__(self, restaurant_name, cuisine_type, flavours = []):\n",
    "        super().__init__(restaurant_name, cuisine_type)\n",
    "        # self.number_served = 0\n",
    "        self.flavours = flavours\n",
    "    def display_Flavours(self):\n",
    "        for i, flavour in enumerate(self.flavours):\n",
    "            print(i, flavour)        \n",
    "        \n",
    "        \n",
    "        "
   ]
  },
  {
   "cell_type": "code",
   "execution_count": 8,
   "metadata": {},
   "outputs": [],
   "source": [
    "ice = IceCreamStand(\"ABC\", \"chineese\", [\"pista\", \"chocolate\"])"
   ]
  },
  {
   "cell_type": "code",
   "execution_count": 9,
   "metadata": {},
   "outputs": [
    {
     "name": "stdout",
     "output_type": "stream",
     "text": [
      "0 pista\n",
      "1 chocolate\n"
     ]
    }
   ],
   "source": [
    "ice.display_Flavours()"
   ]
  },
  {
   "cell_type": "markdown",
   "metadata": {},
   "source": [
    "## Polymorphism"
   ]
  },
  {
   "cell_type": "code",
   "execution_count": null,
   "metadata": {},
   "outputs": [],
   "source": []
  }
 ],
 "metadata": {
  "kernelspec": {
   "display_name": "myenv",
   "language": "python",
   "name": "python3"
  },
  "language_info": {
   "codemirror_mode": {
    "name": "ipython",
    "version": 3
   },
   "file_extension": ".py",
   "mimetype": "text/x-python",
   "name": "python",
   "nbconvert_exporter": "python",
   "pygments_lexer": "ipython3",
   "version": "3.12.2"
  }
 },
 "nbformat": 4,
 "nbformat_minor": 2
}
