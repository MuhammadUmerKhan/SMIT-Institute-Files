{
 "cells": [
  {
   "cell_type": "raw",
   "metadata": {},
   "source": [
    "1) A company decided to give bonus of 5% to employee if his/her year of service is more than 5 years.\n",
    "Ask user for their salary and year of service and print the net bonus amount."
   ]
  },
  {
   "cell_type": "code",
   "execution_count": 6,
   "metadata": {},
   "outputs": [
    {
     "name": "stdout",
     "output_type": "stream",
     "text": [
      "Your bonus according to your exprience is: 2.25 Rupees\n"
     ]
    }
   ],
   "source": [
    "#Type your code here\n",
    "salary = int(input(\"Enter your Salary amount: \"))\n",
    "exp = input(\"Enter your experince in year: \")\n",
    "if int(exp) > 5:\n",
    "    bonus = (salary / 100) * 5\n",
    "    # print(\"Your bonus according to your exprience is: \", bonus, \"Rupees\")\n",
    "    print(\"Your bonus according to your exprience is: \" +  str(bonus) + \" \" +\"Rupees\")\n",
    "else:\n",
    "    print(\"Your did'nt satisfied our requirement. Sorry!\")"
   ]
  },
  {
   "cell_type": "markdown",
   "metadata": {},
   "source": [
    "\n",
    "2) Write a program to check whether a person is eligible for voting or not. (accept age from user) if age is greater than 17 eligible otherwise not eligible"
   ]
  },
  {
   "cell_type": "code",
   "execution_count": 7,
   "metadata": {},
   "outputs": [
    {
     "name": "stdout",
     "output_type": "stream",
     "text": [
      "Congrats! You are eligible for voting...\n"
     ]
    }
   ],
   "source": [
    "#Type your code here\n",
    "age = input(\"Enter your age: \")\n",
    "if int(age) > 17:\n",
    "    print(\"Congrats! You are eligible for voting...\")\n",
    "else:\n",
    "    print(\"Sorry! You are not eligible for voting...\")"
   ]
  },
  {
   "cell_type": "markdown",
   "metadata": {},
   "source": [
    "\n",
    "3) Write a program to check whether a number entered by user is even or odd."
   ]
  },
  {
   "cell_type": "code",
   "execution_count": 9,
   "metadata": {},
   "outputs": [
    {
     "name": "stdout",
     "output_type": "stream",
     "text": [
      "5 is Odd number\n",
      "5 is Odd number\n"
     ]
    }
   ],
   "source": [
    "#Type your code here\n",
    "num = input(\"Enter any Number: \")\n",
    "if (int(num) % 2) == 0:\n",
    "    print(str(num)+\" \"+\"is Even number\")\n",
    "    # print(num, \"is Even number\")\n",
    "else:\n",
    "    # print(str(num)+\" \"+\"is Odd number\")\n",
    "    print(num, \"is Odd number\")"
   ]
  },
  {
   "cell_type": "markdown",
   "metadata": {},
   "source": [
    "4) Write a program to check whether a number is divisible by 7 or not.\n",
    "Show Answer"
   ]
  },
  {
   "cell_type": "code",
   "execution_count": 12,
   "metadata": {},
   "outputs": [
    {
     "name": "stdout",
     "output_type": "stream",
     "text": [
      "35  is sucessfuly divisible by 7\n",
      "5\n"
     ]
    }
   ],
   "source": [
    "#Type your code here\n",
    "diviNumber = input(\"Enter any number: \")\n",
    "if (int(diviNumber) % 7) == 0:\n",
    "    print(diviNumber, \" is sucessfuly divisible by 7\")\n",
    "    print(int(int(diviNumber) / 7))\n",
    "else:\n",
    "    print(diviNumber, \" is not divisible by 7\")\n",
    "    print(int(diviNumber) / 7)"
   ]
  },
  {
   "cell_type": "raw",
   "metadata": {},
   "source": [
    "5) Write a program to display \n",
    "\"Hello\" if a number entered by user is a multiple of five , otherwise print \"Bye\"."
   ]
  },
  {
   "cell_type": "code",
   "execution_count": 16,
   "metadata": {},
   "outputs": [
    {
     "name": "stdout",
     "output_type": "stream",
     "text": [
      "Hello\n"
     ]
    }
   ],
   "source": [
    "#Type your code here\n",
    "hloBye = input(\"Enter any number: \")\n",
    "if (int(hloBye) % 5) == 0:\n",
    "    print(\"Hello\")\n",
    "else:\n",
    "    print(\"Bye\")"
   ]
  },
  {
   "cell_type": "raw",
   "metadata": {},
   "source": [
    "7) Write a program to display the last digit of a number.\n",
    "    "
   ]
  },
  {
   "cell_type": "code",
   "execution_count": 27,
   "metadata": {},
   "outputs": [
    {
     "name": "stdout",
     "output_type": "stream",
     "text": [
      "3\n"
     ]
    }
   ],
   "source": [
    "#Type your code here\n",
    "lastDgigit = input(\"Enter digits: \")\n",
    "if int(lastDgigit) > 0:\n",
    "    print(lastDgigit[-1])\n",
    "else:\n",
    "    print(\"Error! Enter positive Digits...\")"
   ]
  },
  {
   "cell_type": "raw",
   "metadata": {},
   "source": [
    "Q8. Write a program to check whether the last digit of a number( entered by user ) is \n",
    "divisible by 3 or not."
   ]
  },
  {
   "cell_type": "code",
   "execution_count": 31,
   "metadata": {},
   "outputs": [
    {
     "name": "stdout",
     "output_type": "stream",
     "text": [
      "9  is sucessfuly divisible by 3\n"
     ]
    }
   ],
   "source": [
    "#Type your code here\n",
    "lastDigit = input(\"Enter digits: \")\n",
    "diviThree = lastDigit[-1]\n",
    "diviThree = int(diviThree)\n",
    "if (diviThree % 3) == 0:\n",
    "    print(diviThree, \" is sucessfuly divisible by 3\")\n",
    "else:\n",
    "    print(diviThree, \" is not divisible by 3\")"
   ]
  },
  {
   "cell_type": "raw",
   "metadata": {},
   "source": [
    "9) Take values of length and breadth of a rectangle from user and print if it is square or rectangle."
   ]
  },
  {
   "cell_type": "code",
   "execution_count": 33,
   "metadata": {},
   "outputs": [
    {
     "name": "stdout",
     "output_type": "stream",
     "text": [
      "According to length and breath, It is retangle...\n"
     ]
    }
   ],
   "source": [
    "#Type your code here \n",
    "length = input(\"Enter length: \")\n",
    "breath = input(\"Enter Breath: \")\n",
    "if int(length) == int(breath):\n",
    "    print(\"According to length and breath, It is square...\")\n",
    "else:\n",
    "    print(\"According to length and breath, It is retangle...\")"
   ]
  },
  {
   "cell_type": "raw",
   "metadata": {},
   "source": [
    "10) Take two int values from user and print greatest among them."
   ]
  },
  {
   "cell_type": "code",
   "execution_count": 38,
   "metadata": {},
   "outputs": [
    {
     "name": "stdout",
     "output_type": "stream",
     "text": [
      "Enter two digit number\n"
     ]
    }
   ],
   "source": [
    "# Type your code here\n",
    "twoDigitsInput = int(input(\"Enter two digit number: \"))\n",
    "if twoDigitsInput > 0 and twoDigitsInput < 99:\n",
    "    firstNumber = twoDigitsInput / 10\n",
    "    secondNumber = twoDigitsInput % 10\n",
    "    if firstNumber > secondNumber:\n",
    "        print(\"The greatest one is: \", int(firstNumber))\n",
    "    else:\n",
    "        print(\"The greatest one is: \", int(secondNumber))\n",
    "else:\n",
    "    print(\"Enter two digit number\")"
   ]
  },
  {
   "cell_type": "raw",
   "metadata": {},
   "source": [
    "11) A shop will give discount of 10% if the cost of purchased quantity is more than 1000.\n",
    "Ask user for quantity\n",
    "Suppose, one unit will cost 100.\n",
    "Judge and print total cost for user."
   ]
  },
  {
   "cell_type": "code",
   "execution_count": 32,
   "metadata": {},
   "outputs": [
    {
     "name": "stdout",
     "output_type": "stream",
     "text": [
      "Your Discount is  110.0\n"
     ]
    }
   ],
   "source": [
    "#Type your code here\n",
    "quantity = int(input(\"Enter quantity: \"))\n",
    "if (quantity * 100) > 1000:\n",
    "    result = 100 * quantity\n",
    "    discount = (result * 10) / 100\n",
    "    print(\"Your Discount is \", discount)\n",
    "else:\n",
    "    print('No Discount')"
   ]
  },
  {
   "cell_type": "raw",
   "metadata": {},
   "source": [
    "12) A school has following rules for grading system:\n",
    "\n",
    "a. Below 25 - F\n",
    "\n",
    "b. 25 to 45 - E\n",
    "\n",
    "c. 45 to 50 - D\n",
    "\n",
    "d. 50 to 60 - C\n",
    "\n",
    "e. 60 to 80 - B\n",
    "\n",
    "f. Above 80 - A\n",
    "\n",
    "Ask user to enter marks and print the corresponding grade."
   ]
  },
  {
   "cell_type": "code",
   "execution_count": 26,
   "metadata": {},
   "outputs": [
    {
     "name": "stdout",
     "output_type": "stream",
     "text": [
      "Your grade is 'E'\n"
     ]
    }
   ],
   "source": [
    "#Type your code here\n",
    "grades = int(input(\"Enter marks to check grades: \"))\n",
    "if grades > 80 and grades <= 100:\n",
    "    print(\"Your grade is 'A'\")\n",
    "elif grades >= 60 and grades <= 80:\n",
    "    print(\"Your grade is 'B'\")\n",
    "elif grades >= 50 and grades <= 59:\n",
    "    print(\"Your grade is 'C'\")\n",
    "elif grades >= 45 and grades <= 50:\n",
    "    print(\"Your grade is 'D'\")\n",
    "elif grades >= 25 and grades <= 45:\n",
    "    print(\"Your grade is 'E'\")\n",
    "elif grades >= 0 and grades < 25:\n",
    "    print(\"Your grade is 'F'\")\n",
    "else:\n",
    "    print(\"Enter Correct Marks\")"
   ]
  },
  {
   "cell_type": "raw",
   "metadata": {},
   "source": [
    "14)A student will not be allowed to sit in exam if his/her attendence is less than 75%.\n",
    "\n",
    "Take following input from user\n",
    "\n",
    "Number of classes held\n",
    "\n",
    "Number of classes attended.\n",
    "\n",
    "And print\n",
    "\n",
    "percentage of class attended\n",
    "\n",
    "Is student is allowed to sit in exam or not.\n"
   ]
  },
  {
   "cell_type": "code",
   "execution_count": 47,
   "metadata": {},
   "outputs": [
    {
     "name": "stdout",
     "output_type": "stream",
     "text": [
      "The Class attendence is 90.0%\n",
      "You are allow to sit in exam\n"
     ]
    }
   ],
   "source": [
    "#Type your code here\n",
    "classAttend = int(input(\"Enter Number of classes attended\"))\n",
    "classHeld = int(input(\"Enter Number of classes Held\"))\n",
    "if classAttend >= 0 and classHeld >= 0 and classHeld > classAttend:\n",
    "    result = (classAttend / classHeld) * 100\n",
    "    print('The Class attendence is', str(result)+\"%.\")\n",
    "    if int(result) < 75:\n",
    "        print(\"You are not allow to sit in exam.\")\n",
    "    else:\n",
    "        print(\"You are allow to sit in exam.\")\n",
    "else:\n",
    "    print(\"Enter correct requirements...\")\n",
    "    "
   ]
  },
  {
   "cell_type": "raw",
   "metadata": {},
   "source": [
    "15) Modify the above question to allow student to sit if he/she has medical cause. Ask user if he/she has medical cause or not ( 'Y' or 'N' ) and print accordingly."
   ]
  },
  {
   "cell_type": "code",
   "execution_count": 57,
   "metadata": {},
   "outputs": [
    {
     "name": "stdout",
     "output_type": "stream",
     "text": [
      "The Class attendence is 80.0%.\n",
      "You are allow to sit in exam\n"
     ]
    }
   ],
   "source": [
    "#Type your code here\n",
    "medIssue = input(\"Have you any medical issue ('Y' or 'N')\")\n",
    "classAttend = int(input(\"Enter Number of classes attended\"))\n",
    "classHeld = int(input(\"Enter Number of classes Held\"))\n",
    "if classAttend >= 0 and classHeld >= 0 and classHeld > classAttend and (medIssue.upper() == 'Y' or medIssue.upper() == 'N'):\n",
    "    result = (classAttend / classHeld) * 100\n",
    "    print('The Class attendence is', str(result)+\"%.\")\n",
    "    if int(result) < 75 and medIssue.upper() == 'Y':\n",
    "        print(\"You are allow to sit in exam for medical issue.\")\n",
    "    elif int(result) < 75 and medIssue.upper() == 'N':\n",
    "        print(\"You are not allow to sit in exam.\")\n",
    "    else:\n",
    "        print('You are allow to sit in exam')\n",
    "else:\n",
    "    print(\"Enter correct requirements...\")\n",
    "    "
   ]
  },
  {
   "cell_type": "raw",
   "metadata": {},
   "source": [
    "16) Write a program to check if a year is leap year or not.\n",
    "\n",
    "If a year is divisible by 4 then it is leap year but if the year is century year like 2000, 1900, 2100 then it must be divisible by 400."
   ]
  },
  {
   "cell_type": "code",
   "execution_count": 3,
   "metadata": {},
   "outputs": [
    {
     "name": "stdout",
     "output_type": "stream",
     "text": [
      "1999  is not a leap year\n"
     ]
    }
   ],
   "source": [
    "#Type your code here\n",
    "year = int(input(\"Enter Year: \"))\n",
    "if year > 0:\n",
    "    if (year % 4) == 0:\n",
    "        print(int(year),\" is a leap year\")\n",
    "    else:\n",
    "        print(int(year),\" is not a leap year\")"
   ]
  },
  {
   "cell_type": "raw",
   "metadata": {},
   "source": [
    "17) Ask user to enter age, gender ( M or F ), marital status ( Y or N ) and then using following rules print their place of service.\n",
    "\n",
    "if employee is female, then she will work only in urban areas.\n",
    "\n",
    "if employee is a male and age is in between 20 to 40 then he may work in anywhere\n",
    "\n",
    "if employee is male and age is in between 40 t0 60 then he will work in urban areas only.\n",
    "\n",
    "And any other input of age should print \"ERROR\""
   ]
  },
  {
   "cell_type": "code",
   "execution_count": 5,
   "metadata": {},
   "outputs": [
    {
     "name": "stdout",
     "output_type": "stream",
     "text": [
      "You can work in anywhere\n"
     ]
    }
   ],
   "source": [
    "#Type your code here\n",
    "gender = input(\"Enter your gender (M or F): \")\n",
    "empAge = int(input(\"Enter your age: \"))\n",
    "martial = input(\"Enter martial Status (Y or N): \")\n",
    "if gender.upper() == 'F':\n",
    "    print(\"You will only work in urdan area because you are a woman\")\n",
    "elif gender.upper() == 'M' and empAge >= 20 and empAge < 40:\n",
    "    print(\"You can work in anywhere\")\n",
    "elif gender.upper() == 'M' and empAge >= 40 and empAge <= 60:\n",
    "    print(\"You will only work in urdan area\")\n",
    "else:\n",
    "    print('ERROR')"
   ]
  },
  {
   "cell_type": "code",
   "execution_count": null,
   "metadata": {},
   "outputs": [],
   "source": []
  },
  {
   "cell_type": "raw",
   "metadata": {},
   "source": [
    "6) Write a program to calculate the electricity bill (accept number of unit from user) according to the following criteria :\n",
    "     Unit                                                     Price  \n",
    "uptp 100 units                                             no charge\n",
    "Next 200 units                                              Rs 5 per unit\n",
    "After 200 units                                             Rs 10 per unit\n",
    "(For example if input unit is 350 than total bill amount is Rs.3500\n",
    "(For example if input unit is 97 than total bill amount is Rs.0\n",
    "(For example if input unit is 150 than total bill amount is Rs.750"
   ]
  },
  {
   "cell_type": "raw",
   "metadata": {},
   "source": [
    "unitUpto = int(input('Enter number of units'))\n",
    "if unitUpto >= 0 and unitUpto <= 100:\n",
    "    print(\"The total bill amount is Rs.0\")\n",
    "elif unitUpto > 100 and unitUpto <= 200:\n",
    "    print(\"The total bill amount is \", unitUpto*5, \" Rupees\")\n",
    "elif unitUpto > 200:\n",
    "    print(\"The total bill amount is \", unitUpto*10, \" Rupees\")\n",
    "else:\n",
    "    print(\"ERROR\")"
   ]
  },
  {
   "cell_type": "raw",
   "metadata": {},
   "source": [
    "13) Take input of age of 3 people by user and determine oldest and youngest among them."
   ]
  },
  {
   "cell_type": "code",
   "execution_count": 22,
   "metadata": {},
   "outputs": [
    {
     "name": "stdout",
     "output_type": "stream",
     "text": [
      "For oldest:\n",
      "Wrong ages\n",
      "For Youngest:\n",
      "Wrong ages\n"
     ]
    }
   ],
   "source": [
    "#Type your code here\n",
    "age1 = int(input(\"Person 1: Enter your age: \"))\n",
    "age2 = int(input(\"Person 2: Enter your age: \"))\n",
    "age3 = int(input(\"Person 3: Enter your age: \"))\n",
    "print(\"For oldest:\")\n",
    "if age1 > age2 and age1 > age2:\n",
    "    print(\"The Oldest one is Person 1 Whose age is: \", age1)\n",
    "elif age2 > age1 and age2 > age3:\n",
    "    print(\"The Oldest one is Person 2 Whose age is: \", age2)\n",
    "elif age3 > age1 and age3 > age2:\n",
    "    print(\"The Oldest one is Person 3 Whose age is: \", age3)\n",
    "else:\n",
    "    print(\"Wrong ages\")\n",
    "print(\"For Youngest:\")\n",
    "if age1 < age2 and age1 < age2:\n",
    "    print(\"The Youngest one is Person 1\\nWhose age is: \", age1)\n",
    "elif age2 < age1 and age2 < age3:\n",
    "    print(\"The Youngest one is Person 2\\nWhose age is: \", age2)\n",
    "elif age3 < age1 and age3 < age2:\n",
    "    print(\"The Youngest one is Person 3\\nWhose age is: \", age3)\n",
    "else:\n",
    "    print(\"Wrong ages\")"
   ]
  },
  {
   "cell_type": "code",
   "execution_count": null,
   "metadata": {},
   "outputs": [],
   "source": []
  },
  {
   "cell_type": "code",
   "execution_count": 23,
   "metadata": {},
   "outputs": [
    {
     "name": "stdout",
     "output_type": "stream",
     "text": [
      "The total bill amount is Rs.0\n"
     ]
    }
   ],
   "source": [
    "unitUpto = int(input('Enter number of units'))\n",
    "if unitUpto >= 0 and unitUpto <= 100:\n",
    "    print(\"The total bill amount is Rs.0\")\n",
    "elif unitUpto > 100 and unitUpto <= 200:\n",
    "    print(\"The total bill amount is \", unitUpto*5, \" Rupees\")\n",
    "elif unitUpto > 200:\n",
    "    print(\"The total bill amount is \", unitUpto*10, \" Rupees\")\n",
    "else:\n",
    "    print(\"ERROR\")"
   ]
  },
  {
   "cell_type": "code",
   "execution_count": null,
   "metadata": {},
   "outputs": [],
   "source": []
  }
 ],
 "metadata": {
  "kernelspec": {
   "display_name": "Python 3 (ipykernel)",
   "language": "python",
   "name": "python3"
  },
  "language_info": {
   "codemirror_mode": {
    "name": "ipython",
    "version": 3
   },
   "file_extension": ".py",
   "mimetype": "text/x-python",
   "name": "python",
   "nbconvert_exporter": "python",
   "pygments_lexer": "ipython3",
   "version": "3.11.5"
  }
 },
 "nbformat": 4,
 "nbformat_minor": 2
}
