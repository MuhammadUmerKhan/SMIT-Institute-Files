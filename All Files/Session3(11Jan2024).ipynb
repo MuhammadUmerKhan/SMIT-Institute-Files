{
 "cells": [
  {
   "cell_type": "markdown",
   "id": "cd1efcb0",
   "metadata": {},
   "source": [
    "# Loops\n",
    "    -  for in \n",
    "    -  while loop"
   ]
  },
  {
   "cell_type": "code",
   "execution_count": 3,
   "id": "c539ff42",
   "metadata": {
    "collapsed": true
   },
   "outputs": [
    {
     "name": "stdout",
     "output_type": "stream",
     "text": [
      "Nasir Hussain\n",
      "Nasir Hussain\n",
      "Nasir Hussain\n",
      "Nasir Hussain\n",
      "Nasir Hussain\n",
      "Nasir Hussain\n",
      "Nasir Hussain\n",
      "Nasir Hussain\n",
      "Nasir Hussain\n",
      "Nasir Hussain\n"
     ]
    }
   ],
   "source": [
    "print(\"Nasir Hussain\")\n",
    "print(\"Nasir Hussain\")\n",
    "print(\"Nasir Hussain\")\n",
    "print(\"Nasir Hussain\")\n",
    "print(\"Nasir Hussain\")\n",
    "print(\"Nasir Hussain\")\n",
    "print(\"Nasir Hussain\")\n",
    "print(\"Nasir Hussain\")\n",
    "print(\"Nasir Hussain\")\n",
    "print(\"Nasir Hussain\")"
   ]
  },
  {
   "cell_type": "code",
   "execution_count": 20,
   "id": "98fd93b9",
   "metadata": {},
   "outputs": [
    {
     "name": "stdout",
     "output_type": "stream",
     "text": [
      "0 Nasir Hussain\n",
      "1 Nasir Hussain\n",
      "2 Nasir Hussain\n",
      "3 Nasir Hussain\n",
      "4 Nasir Hussain\n",
      "5 Nasir Hussain\n",
      "6 Nasir Hussain\n",
      "7 Nasir Hussain\n",
      "8 Nasir Hussain\n",
      "9 Nasir Hussain\n"
     ]
    }
   ],
   "source": [
    "for d in range(10):\n",
    "    print(d, \"Nasir Hussain\")"
   ]
  },
  {
   "cell_type": "code",
   "execution_count": 21,
   "id": "57c54421",
   "metadata": {},
   "outputs": [],
   "source": [
    "courses  = ['Python', 'Web', 'Flutter','GD','Cyber','3DAnimation']"
   ]
  },
  {
   "cell_type": "code",
   "execution_count": 22,
   "id": "11bd88ac",
   "metadata": {},
   "outputs": [
    {
     "name": "stdout",
     "output_type": "stream",
     "text": [
      "We are offering Python course\n",
      "We are offering Web course\n",
      "We are offering Flutter course\n",
      "We are offering GD course\n",
      "We are offering Cyber course\n",
      "We are offering 3DAnimation course\n"
     ]
    }
   ],
   "source": [
    "for course in courses:\n",
    "    print(f'We are offering {course} course')"
   ]
  },
  {
   "cell_type": "code",
   "execution_count": 31,
   "id": "1bff8562",
   "metadata": {},
   "outputs": [],
   "source": [
    "students = ['Umer','Hamza','Saif', 'Muhammad Arbab', 'Kashif', 'Rehan', 'Ali', 'Shumail', 'Sufyan']"
   ]
  },
  {
   "cell_type": "code",
   "execution_count": 32,
   "id": "4e432717",
   "metadata": {},
   "outputs": [
    {
     "name": "stdout",
     "output_type": "stream",
     "text": [
      "UMER\n",
      "HAMZA\n",
      "SAIF\n",
      "MUHAMMAD ARBAB\n",
      "KASHIF\n",
      "REHAN\n",
      "ALI\n",
      "SHUMAIL\n",
      "SUFYAN\n"
     ]
    }
   ],
   "source": [
    "for student in students:\n",
    "    print(student.upper())"
   ]
  },
  {
   "cell_type": "code",
   "execution_count": 33,
   "id": "19ea1ea3",
   "metadata": {},
   "outputs": [
    {
     "name": "stdout",
     "output_type": "stream",
     "text": [
      "Umer Kal chutti hy!!!\n",
      "Hamza Kal chutti hy!!!\n",
      "Saif Kal zarror ana\n",
      "Muhammad Arbab Kal chutti hy!!!\n",
      "Kashif Kal chutti hy!!!\n",
      "Rehan Kal chutti hy!!!\n",
      "Ali Kal chutti hy!!!\n",
      "Shumail Kal chutti hy!!!\n",
      "Sufyan Kal chutti hy!!!\n"
     ]
    }
   ],
   "source": [
    "for student in students:\n",
    "    if student!='Saif':\n",
    "        print(f\"{student} Kal chutti hy!!!\")\n",
    "    else:\n",
    "        print(f\"{student} Kal zarror ana\")\n",
    "        "
   ]
  },
  {
   "cell_type": "code",
   "execution_count": 37,
   "id": "4d9847e0",
   "metadata": {},
   "outputs": [
    {
     "name": "stdout",
     "output_type": "stream",
     "text": [
      "Umer :You are selected for intership!!\n",
      "Saif :You are selected for intership!!\n",
      "Ali :You are selected for intership!!\n"
     ]
    }
   ],
   "source": [
    "# message all students whose name is less than or equal to 4 characters \n",
    "for student in students:\n",
    "    if len(student)<=4:\n",
    "        print(f'{student} :You are selected for intership!!')"
   ]
  },
  {
   "cell_type": "code",
   "execution_count": 60,
   "id": "0c8d855a",
   "metadata": {},
   "outputs": [],
   "source": [
    "lst  = list(range(1,100))"
   ]
  },
  {
   "cell_type": "code",
   "execution_count": 61,
   "id": "bb483198",
   "metadata": {},
   "outputs": [],
   "source": [
    "list_of_multiples_of_5 = []"
   ]
  },
  {
   "cell_type": "code",
   "execution_count": 62,
   "id": "4fbf3f64",
   "metadata": {},
   "outputs": [],
   "source": [
    "for num in lst:\n",
    "    if num%5 == 0:\n",
    "        list_of_multiples_of_5.append(num) "
   ]
  },
  {
   "cell_type": "code",
   "execution_count": 63,
   "id": "de2c3d6e",
   "metadata": {},
   "outputs": [
    {
     "data": {
      "text/plain": [
       "[5, 10, 15, 20, 25, 30, 35, 40, 45, 50, 55, 60, 65, 70, 75, 80, 85, 90, 95]"
      ]
     },
     "execution_count": 63,
     "metadata": {},
     "output_type": "execute_result"
    }
   ],
   "source": [
    "list_of_multiples_of_5"
   ]
  },
  {
   "cell_type": "code",
   "execution_count": 64,
   "id": "99466daa",
   "metadata": {},
   "outputs": [
    {
     "data": {
      "text/plain": [
       "20.2"
      ]
     },
     "execution_count": 64,
     "metadata": {},
     "output_type": "execute_result"
    }
   ],
   "source": [
    "101/5"
   ]
  },
  {
   "cell_type": "code",
   "execution_count": 65,
   "id": "d86c9c5c",
   "metadata": {},
   "outputs": [
    {
     "data": {
      "text/plain": [
       "1"
      ]
     },
     "execution_count": 65,
     "metadata": {},
     "output_type": "execute_result"
    }
   ],
   "source": [
    "101%5"
   ]
  },
  {
   "cell_type": "code",
   "execution_count": 66,
   "id": "92e4aa12",
   "metadata": {},
   "outputs": [],
   "source": [
    "newlst = []"
   ]
  },
  {
   "cell_type": "code",
   "execution_count": 67,
   "id": "baee8012",
   "metadata": {},
   "outputs": [],
   "source": [
    "for num in lst:\n",
    "    if (num%5==0) and (num%10!=0):\n",
    "        newlst.append(num)\n",
    "        "
   ]
  },
  {
   "cell_type": "code",
   "execution_count": 68,
   "id": "5a6ac3c6",
   "metadata": {},
   "outputs": [
    {
     "data": {
      "text/plain": [
       "[5, 15, 25, 35, 45, 55, 65, 75, 85, 95]"
      ]
     },
     "execution_count": 68,
     "metadata": {},
     "output_type": "execute_result"
    }
   ],
   "source": [
    "newlst"
   ]
  },
  {
   "cell_type": "code",
   "execution_count": 69,
   "id": "14840fdc",
   "metadata": {},
   "outputs": [
    {
     "data": {
      "text/plain": [
       "99"
      ]
     },
     "execution_count": 69,
     "metadata": {},
     "output_type": "execute_result"
    }
   ],
   "source": [
    "num"
   ]
  },
  {
   "cell_type": "code",
   "execution_count": 73,
   "id": "8889d215",
   "metadata": {},
   "outputs": [
    {
     "data": {
      "text/plain": [
       "[1, 2, 3, 4, 5, 6, 7, 8, 9, 10, 11, 12, 13, 14, 15, 16, 17, 18, 19, 20]"
      ]
     },
     "execution_count": 73,
     "metadata": {},
     "output_type": "execute_result"
    }
   ],
   "source": [
    "lst  = list(range(1,21))\n",
    "lst"
   ]
  },
  {
   "cell_type": "code",
   "execution_count": 74,
   "id": "300130a8",
   "metadata": {},
   "outputs": [],
   "source": [
    "mof5=[]\n",
    "notmof5 = []\n",
    "\n",
    "for num in lst:\n",
    "    if num%5==0:\n",
    "        mof5.append(num)\n",
    "    else:\n",
    "        notmof5.append(num)"
   ]
  },
  {
   "cell_type": "code",
   "execution_count": 75,
   "id": "eb7baabb",
   "metadata": {},
   "outputs": [
    {
     "data": {
      "text/plain": [
       "[5, 10, 15, 20]"
      ]
     },
     "execution_count": 75,
     "metadata": {},
     "output_type": "execute_result"
    }
   ],
   "source": [
    "mof5"
   ]
  },
  {
   "cell_type": "code",
   "execution_count": 76,
   "id": "9c2a8edd",
   "metadata": {},
   "outputs": [
    {
     "data": {
      "text/plain": [
       "[1, 2, 3, 4, 6, 7, 8, 9, 11, 12, 13, 14, 16, 17, 18, 19]"
      ]
     },
     "execution_count": 76,
     "metadata": {},
     "output_type": "execute_result"
    }
   ],
   "source": [
    "notmof5"
   ]
  },
  {
   "cell_type": "code",
   "execution_count": 77,
   "id": "61e47119",
   "metadata": {},
   "outputs": [
    {
     "data": {
      "text/plain": [
       "[1, 2, 3, 4, 5, 6, 7, 8, 9, 10, 11, 12, 13, 14, 15, 16, 17, 18, 19, 20]"
      ]
     },
     "execution_count": 77,
     "metadata": {},
     "output_type": "execute_result"
    }
   ],
   "source": [
    "lst"
   ]
  },
  {
   "cell_type": "code",
   "execution_count": 80,
   "id": "4a2e5e23",
   "metadata": {},
   "outputs": [
    {
     "name": "stdout",
     "output_type": "stream",
     "text": [
      "[2, 4, 6, 8, 10, 12, 14, 16, 18, 20]\n"
     ]
    },
    {
     "data": {
      "text/plain": [
       "[1, 3, 5, 7, 9, 11, 13, 15, 17, 19]"
      ]
     },
     "execution_count": 80,
     "metadata": {},
     "output_type": "execute_result"
    }
   ],
   "source": [
    "even = []\n",
    "odd = []\n",
    "\n",
    "for num in lst:\n",
    "    if num%2==0:\n",
    "        even.append(num)\n",
    "    else:\n",
    "        odd.append(num)\n",
    "print(even)\n",
    "odd"
   ]
  },
  {
   "cell_type": "markdown",
   "id": "3e769b3f",
   "metadata": {},
   "source": [
    "# list comprehension"
   ]
  },
  {
   "cell_type": "code",
   "execution_count": 81,
   "id": "e4ae7ef6",
   "metadata": {},
   "outputs": [
    {
     "name": "stdout",
     "output_type": "stream",
     "text": [
      "[1, 4, 9, 16, 25, 36, 49, 64, 81, 100, 121, 144, 169, 196, 225, 256, 289, 324, 361, 400]\n"
     ]
    }
   ],
   "source": [
    "squares = []\n",
    "\n",
    "for num in lst:\n",
    "    square = num**2\n",
    "    squares.append(square)\n",
    "print(squares)"
   ]
  },
  {
   "cell_type": "code",
   "execution_count": 83,
   "id": "01b82e5e",
   "metadata": {},
   "outputs": [],
   "source": [
    "squares = [ num**2 for num in lst]"
   ]
  },
  {
   "cell_type": "code",
   "execution_count": 84,
   "id": "140f242b",
   "metadata": {},
   "outputs": [
    {
     "data": {
      "text/plain": [
       "[1,\n",
       " 4,\n",
       " 9,\n",
       " 16,\n",
       " 25,\n",
       " 36,\n",
       " 49,\n",
       " 64,\n",
       " 81,\n",
       " 100,\n",
       " 121,\n",
       " 144,\n",
       " 169,\n",
       " 196,\n",
       " 225,\n",
       " 256,\n",
       " 289,\n",
       " 324,\n",
       " 361,\n",
       " 400]"
      ]
     },
     "execution_count": 84,
     "metadata": {},
     "output_type": "execute_result"
    }
   ],
   "source": [
    "squares"
   ]
  },
  {
   "cell_type": "code",
   "execution_count": 85,
   "id": "91f92379",
   "metadata": {},
   "outputs": [],
   "source": [
    "items = ['Laptop', 'Keyboard', 'Mouse', 'Speaker', 'Heasdfone', 'Charger', 'USB']"
   ]
  },
  {
   "cell_type": "code",
   "execution_count": 88,
   "id": "a3ad7864",
   "metadata": {},
   "outputs": [
    {
     "name": "stdout",
     "output_type": "stream",
     "text": [
      "Laptop\n",
      "Keyboard\n",
      "Mouse\n",
      "Speaker\n",
      "Heasdfone\n",
      "Charger\n",
      "USB\n"
     ]
    }
   ],
   "source": [
    "for item in items:\n",
    "    print(item)"
   ]
  },
  {
   "cell_type": "code",
   "execution_count": 89,
   "id": "2b188ca9",
   "metadata": {},
   "outputs": [
    {
     "data": {
      "text/plain": [
       "['laptop', 'keyboard', 'mouse', 'speaker', 'heasdfone', 'charger', 'usb']"
      ]
     },
     "execution_count": 89,
     "metadata": {},
     "output_type": "execute_result"
    }
   ],
   "source": [
    "lower_items = []\n",
    "for item in items:\n",
    "    lower_items.append(item.lower())\n",
    "lower_items"
   ]
  },
  {
   "cell_type": "code",
   "execution_count": 90,
   "id": "1ce748ce",
   "metadata": {},
   "outputs": [],
   "source": [
    "lower_items = [item.lower() for item in items]"
   ]
  },
  {
   "cell_type": "code",
   "execution_count": 91,
   "id": "d40d6c62",
   "metadata": {},
   "outputs": [
    {
     "data": {
      "text/plain": [
       "['laptop', 'keyboard', 'mouse', 'speaker', 'heasdfone', 'charger', 'usb']"
      ]
     },
     "execution_count": 91,
     "metadata": {},
     "output_type": "execute_result"
    }
   ],
   "source": [
    "lower_items"
   ]
  },
  {
   "cell_type": "code",
   "execution_count": 92,
   "id": "9e4fbfad",
   "metadata": {},
   "outputs": [
    {
     "data": {
      "text/plain": [
       "[1, 2, 3, 4, 5, 6, 7, 8, 9, 10, 11, 12, 13, 14, 15, 16, 17, 18, 19, 20]"
      ]
     },
     "execution_count": 92,
     "metadata": {},
     "output_type": "execute_result"
    }
   ],
   "source": [
    "lst"
   ]
  },
  {
   "cell_type": "code",
   "execution_count": 93,
   "id": "c2aa938b",
   "metadata": {},
   "outputs": [],
   "source": [
    "evens = [num for num in lst if num%2==0]"
   ]
  },
  {
   "cell_type": "code",
   "execution_count": 94,
   "id": "ec6e65c9",
   "metadata": {},
   "outputs": [
    {
     "data": {
      "text/plain": [
       "[2, 4, 6, 8, 10, 12, 14, 16, 18, 20]"
      ]
     },
     "execution_count": 94,
     "metadata": {},
     "output_type": "execute_result"
    }
   ],
   "source": [
    "even"
   ]
  },
  {
   "cell_type": "code",
   "execution_count": 97,
   "id": "a38014f2",
   "metadata": {},
   "outputs": [],
   "source": [
    "odds=[]\n",
    "evens = [num if num%2==0 else odds.append(num) for num in lst]"
   ]
  },
  {
   "cell_type": "code",
   "execution_count": 98,
   "id": "13e3e8ed",
   "metadata": {},
   "outputs": [
    {
     "data": {
      "text/plain": [
       "[1, 3, 5, 7, 9, 11, 13, 15, 17, 19]"
      ]
     },
     "execution_count": 98,
     "metadata": {},
     "output_type": "execute_result"
    }
   ],
   "source": [
    "odds"
   ]
  },
  {
   "cell_type": "code",
   "execution_count": 99,
   "id": "f456c3ad",
   "metadata": {},
   "outputs": [
    {
     "data": {
      "text/plain": [
       "[None,\n",
       " 2,\n",
       " None,\n",
       " 4,\n",
       " None,\n",
       " 6,\n",
       " None,\n",
       " 8,\n",
       " None,\n",
       " 10,\n",
       " None,\n",
       " 12,\n",
       " None,\n",
       " 14,\n",
       " None,\n",
       " 16,\n",
       " None,\n",
       " 18,\n",
       " None,\n",
       " 20]"
      ]
     },
     "execution_count": 99,
     "metadata": {},
     "output_type": "execute_result"
    }
   ],
   "source": [
    "evens"
   ]
  },
  {
   "cell_type": "code",
   "execution_count": 101,
   "id": "27800f8b",
   "metadata": {},
   "outputs": [],
   "source": [
    "store = [f'{num} is Even' if num%2==0 else f'{num} is Odd' for num in lst]"
   ]
  },
  {
   "cell_type": "code",
   "execution_count": null,
   "id": "7a18fa75",
   "metadata": {},
   "outputs": [],
   "source": []
  }
 ],
 "metadata": {
  "kernelspec": {
   "display_name": "Python 3 (ipykernel)",
   "language": "python",
   "name": "python3"
  },
  "language_info": {
   "codemirror_mode": {
    "name": "ipython",
    "version": 3
   },
   "file_extension": ".py",
   "mimetype": "text/x-python",
   "name": "python",
   "nbconvert_exporter": "python",
   "pygments_lexer": "ipython3",
   "version": "3.11.5"
  }
 },
 "nbformat": 4,
 "nbformat_minor": 5
}
