{
 "cells": [
  {
   "cell_type": "markdown",
   "metadata": {},
   "source": [
    "1. Animal Shelter Management:\n",
    "\n",
    "Class: Animal (base class) <br>\n",
    "Attributes: name, species, age<br>\n",
    "Methods: make_sound(), get_info() (virtual method for polymorphism)<br>\n",
    "Classes: Dog, Cat (inherit from Animal)<br>\n",
    "Override make_sound() method for specific sounds<br>\n",
    "Class: Shelter<br>\n",
    "Attributes: animals (list of Animal objects)<br>\n",
    "Methods: add_animal(animal), remove_animal(animal), find_animal(name), print_animals()"
   ]
  },
  {
   "cell_type": "code",
   "execution_count": 1,
   "metadata": {},
   "outputs": [],
   "source": [
    "class Animal:\n",
    "    def __init__(self, name, species, age):\n",
    "        self.name = name\n",
    "        self.species = species\n",
    "        self.age = age\n",
    "\n",
    "    def make_sound(self):\n",
    "        raise NotImplementedError(\"Subclasses must implement make_sound()\")\n",
    "\n",
    "    def get_info(self):\n",
    "        return f\"{self.name} ({self.species}), {self.age} years old\"\n",
    "\n",
    "class Dog(Animal):\n",
    "    def make_sound(self):\n",
    "        return \"Woof!\"\n",
    "\n",
    "class Cat(Animal):\n",
    "    def make_sound(self):\n",
    "        return \"Meow!\"\n",
    "\n",
    "class Shelter:\n",
    "\n",
    "    def __init__(self):\n",
    "        self.animals = []\n",
    "\n",
    "    def add_animal(self, animal):\n",
    "        self.animals.append(animal)\n",
    "\n",
    "    def remove_animal(self, animal):\n",
    "        self.animals.remove(animal)\n",
    "\n",
    "    def find_animal(self, name):\n",
    "        for animal in self.animals:\n",
    "            if animal.name == name:\n",
    "                return animal\n",
    "        return None\n",
    "\n",
    "    def print_animals(self):\n",
    "        if not self.animals:\n",
    "            print(\"The shelter is currently empty.\")\n",
    "        else:\n",
    "            print(\"Animals in the shelter:\")\n",
    "            for animal in self.animals:\n",
    "                print(animal.get_info())"
   ]
  },
  {
   "cell_type": "code",
   "execution_count": 2,
   "metadata": {},
   "outputs": [],
   "source": [
    "my_shelter = Shelter()\n",
    "my_shelter.add_animal(Dog(\"Buddy\", \"Labrador Retriever\", 2))\n",
    "my_shelter.add_animal(Cat(\"Whiskers\", \"Persian\", 1))"
   ]
  },
  {
   "cell_type": "code",
   "execution_count": 3,
   "metadata": {},
   "outputs": [
    {
     "name": "stdout",
     "output_type": "stream",
     "text": [
      "Woof!\n",
      "Animals in the shelter:\n",
      "Buddy (Labrador Retriever), 2 years old\n",
      "Whiskers (Persian), 1 years old\n"
     ]
    }
   ],
   "source": [
    "print(my_shelter.find_animal(\"Buddy\").make_sound())\n",
    "\n",
    "my_shelter.print_animals()"
   ]
  },
  {
   "cell_type": "markdown",
   "metadata": {},
   "source": [
    "### 2. E-commerce Shopping Cart:\n",
    "\n",
    "Class: Product<br>\n",
    "Attributes: name, price, quantity<br>\n",
    "Methods: get_total_price()<br>\n",
    "Class: ShoppingCart<br>\n",
    "Attributes: items (list of Product objects)<br>\n",
    "Methods: add_item(product, quantity), remove_item(product), get_cart_total(), clear_cart()\n"
   ]
  },
  {
   "cell_type": "code",
   "execution_count": 4,
   "metadata": {},
   "outputs": [],
   "source": [
    "class Product:\n",
    "    def __init__(self, name, price, quantity):\n",
    "        self.name = name\n",
    "        self.price = price\n",
    "        self.quantity = quantity\n",
    "    def get_total_price(self):\n",
    "        return self.price * self.quantity\n",
    "\n",
    "class ShoppingCart:\n",
    "    def __init__(self):\n",
    "        self.items = []\n",
    "    def add_item(self, product, quantity=1):\n",
    "        existing_item = self.find_item(product.name)\n",
    "        if existing_item:\n",
    "            existing_item.quantity += quantity\n",
    "        else:\n",
    "            self.items.append(Product(product.name, product.price, quantity))\n",
    "    def remove_item(self, product):\n",
    "        for pro in self.items:\n",
    "            if pro.name == product.name:\n",
    "                self.items.remove(pro)\n",
    "                return\n",
    "    def find_item(self, name):\n",
    "        for item in self.items:\n",
    "            if item.name == name:\n",
    "                return item\n",
    "        return None\n",
    "    def get_cart_total(self):\n",
    "        total = 0\n",
    "        for item in self.items:\n",
    "            total += item.get_total_price()\n",
    "        return total\n",
    "    def clear_cart(self):\n",
    "        self.items = []"
   ]
  },
  {
   "cell_type": "code",
   "execution_count": 5,
   "metadata": {},
   "outputs": [],
   "source": [
    "my_cart = ShoppingCart()"
   ]
  },
  {
   "cell_type": "code",
   "execution_count": 6,
   "metadata": {},
   "outputs": [],
   "source": [
    "my_cart.add_item(Product('T-Shirt', 19.99, 2))\n",
    "my_cart.add_item(Product('Laptop', 20.09, 2))\n",
    "my_cart.add_item(Product('T-Shirt', 19.99, 1))"
   ]
  },
  {
   "cell_type": "code",
   "execution_count": 7,
   "metadata": {},
   "outputs": [
    {
     "data": {
      "text/plain": [
       "60.06999999999999"
      ]
     },
     "execution_count": 7,
     "metadata": {},
     "output_type": "execute_result"
    }
   ],
   "source": [
    "my_cart.get_cart_total()"
   ]
  },
  {
   "cell_type": "code",
   "execution_count": 8,
   "metadata": {},
   "outputs": [],
   "source": [
    "my_cart.clear_cart()"
   ]
  },
  {
   "cell_type": "markdown",
   "metadata": {},
   "source": [
    "### 3. Shape Calculations:\n",
    "\n",
    "Class: Shape (base class)<br>\n",
    "Attribute: color (optional)<br>\n",
    "Method: get_area() (virtual method for polymorphism)<br>\n",
    "Classes: Square, Circle (inherit from Shape)<br>\n",
    "Implement specific get_area() methods for their shapes<br>\n",
    "Class: ShapeCalculator<br>\n",
    "Methods: calculate_area(shape), calculate_total_area(shapes) (accepts a list of shapes)<br>"
   ]
  },
  {
   "cell_type": "code",
   "execution_count": 9,
   "metadata": {},
   "outputs": [],
   "source": [
    "class Shape:\n",
    "    def __init__(self, color=None):\n",
    "        self.color = color\n",
    "    def get_area(self):\n",
    "        raise NotImplementedError(\"Subclasses must implement get_area()\")\n",
    "\n",
    "class Square(Shape):\n",
    "    def __init__(self, color, side_length):\n",
    "        super().__init__(color)\n",
    "        self.side_length = side_length\n",
    "    def get_area(self):\n",
    "        return self.side_length **2\n",
    "\n",
    "class Circle(Shape):\n",
    "    def __init__(self, radius, color=None):\n",
    "        super().__init__(color)\n",
    "        self.radius = radius\n",
    "    def get_area(self):\n",
    "        import math as m\n",
    "        return m.pi * self.radius ** 2\n",
    "\n",
    "class ShapeCalculator:\n",
    "    def calculate_area(self, shape):\n",
    "        if isinstance(shape, Shape):\n",
    "            return shape.get_area()\n",
    "        else:\n",
    "            raise TypeError(\"Invalid shape object. Please provide a subclass of Shape (e.g., Square, Circle).\")\n",
    "    def calculate_total_area(self, shapes):\n",
    "        total = 0\n",
    "        for shape in shapes:\n",
    "            total += self.calculate_area(shape)\n",
    "        return total"
   ]
  },
  {
   "cell_type": "code",
   "execution_count": 10,
   "metadata": {},
   "outputs": [],
   "source": [
    "my_cal = ShapeCalculator()"
   ]
  },
  {
   "cell_type": "code",
   "execution_count": 11,
   "metadata": {},
   "outputs": [],
   "source": [
    "square = Square('red', 5)"
   ]
  },
  {
   "cell_type": "code",
   "execution_count": 12,
   "metadata": {},
   "outputs": [],
   "source": [
    "circle = Circle(4, 'blue')"
   ]
  },
  {
   "cell_type": "code",
   "execution_count": 14,
   "metadata": {},
   "outputs": [
    {
     "data": {
      "text/plain": [
       "(25, 50.26548245743669)"
      ]
     },
     "execution_count": 14,
     "metadata": {},
     "output_type": "execute_result"
    }
   ],
   "source": [
    "my_cal.calculate_area(square), my_cal.calculate_area(circle)"
   ]
  },
  {
   "cell_type": "code",
   "execution_count": 16,
   "metadata": {},
   "outputs": [
    {
     "name": "stdout",
     "output_type": "stream",
     "text": [
      "Total area of all shapes: 79.26548245743669\n"
     ]
    }
   ],
   "source": [
    "shapes = [square, circle, Square('red', 2)]\n",
    "total_area = my_cal.calculate_total_area(shapes)\n",
    "print(f\"Total area of all shapes: {total_area}\") \n"
   ]
  },
  {
   "cell_type": "code",
   "execution_count": null,
   "metadata": {},
   "outputs": [],
   "source": []
  }
 ],
 "metadata": {
  "kernelspec": {
   "display_name": "Python 3",
   "language": "python",
   "name": "python3"
  },
  "language_info": {
   "codemirror_mode": {
    "name": "ipython",
    "version": 3
   },
   "file_extension": ".py",
   "mimetype": "text/x-python",
   "name": "python",
   "nbconvert_exporter": "python",
   "pygments_lexer": "ipython3",
   "version": "3.12.3"
  }
 },
 "nbformat": 4,
 "nbformat_minor": 2
}
