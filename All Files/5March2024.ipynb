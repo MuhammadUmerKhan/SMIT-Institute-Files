{
 "cells": [
  {
   "cell_type": "markdown",
   "id": "422cacc5-6d40-4ba0-a9ec-69ab6727a60b",
   "metadata": {},
   "source": [
    "class Person():\n",
    "    name = \"Nawaz Sharif\"\n",
    "    age = 70\n",
    "    gender = \"M\"\n",
    "    height = 6\n",
    "    weight = 80\n",
    "    def eat(self):\n",
    "        print(f\"{self.name} is eating Pakistan\")\n",
    "    def run(self):\n",
    "        print(f\"{self.name} is running out from Pakistan\")"
   ]
  },
  {
   "cell_type": "code",
   "execution_count": 28,
   "id": "c68868fb-6676-4f35-ab73-45c10f9b3bd4",
   "metadata": {},
   "outputs": [],
   "source": [
    "p1 = Person()"
   ]
  },
  {
   "cell_type": "code",
   "execution_count": 29,
   "id": "2467abac-179b-4475-aa3e-5810a5869033",
   "metadata": {},
   "outputs": [
    {
     "data": {
      "text/plain": [
       "'Nawaz Sharif'"
      ]
     },
     "execution_count": 29,
     "metadata": {},
     "output_type": "execute_result"
    }
   ],
   "source": [
    "p1.name"
   ]
  },
  {
   "cell_type": "code",
   "execution_count": 30,
   "id": "3ac70f26-4afb-4193-bb28-895d98720a89",
   "metadata": {},
   "outputs": [
    {
     "data": {
      "text/plain": [
       "80"
      ]
     },
     "execution_count": 30,
     "metadata": {},
     "output_type": "execute_result"
    }
   ],
   "source": [
    "p1.weight"
   ]
  },
  {
   "cell_type": "code",
   "execution_count": 31,
   "id": "9bf08139-9ea7-49c7-9d64-143ae6995e1d",
   "metadata": {},
   "outputs": [
    {
     "name": "stdout",
     "output_type": "stream",
     "text": [
      "Nawaz Sharif is eating Pakistan\n"
     ]
    }
   ],
   "source": [
    "p1.eat()"
   ]
  },
  {
   "cell_type": "code",
   "execution_count": 32,
   "id": "6df73a68-d7d6-4d2d-990d-cb9bc2572a6c",
   "metadata": {},
   "outputs": [],
   "source": [
    "class Person():\n",
    "    def __init__(self, name, gender, age):\n",
    "        self.name = name\n",
    "        self.gender = gender\n",
    "        self.age = age\n",
    "    def eat(self):\n",
    "        print(f\"{self.name} is eating Pakistan\")\n",
    "    def run(self):\n",
    "        print(f\"{self.name} is running out from Pakistan\")"
   ]
  },
  {
   "cell_type": "code",
   "execution_count": 35,
   "id": "75c303e0-35da-4e51-9915-26f9f170ef5b",
   "metadata": {},
   "outputs": [
    {
     "name": "stdout",
     "output_type": "stream",
     "text": [
      "ali is eating Pakistan\n"
     ]
    }
   ],
   "source": [
    "p1 = Person(\"ali\", \"M\", 18)\n",
    "p1.eat()"
   ]
  },
  {
   "cell_type": "code",
   "execution_count": 36,
   "id": "9059059f-01fa-4a58-bd11-c2028f3e66fe",
   "metadata": {},
   "outputs": [
    {
     "data": {
      "text/plain": [
       "'ali'"
      ]
     },
     "execution_count": 36,
     "metadata": {},
     "output_type": "execute_result"
    }
   ],
   "source": [
    "p1.name"
   ]
  },
  {
   "cell_type": "code",
   "execution_count": 37,
   "id": "e2bcc7d1-05f4-4fd1-89d3-9c8ac7e029de",
   "metadata": {},
   "outputs": [
    {
     "name": "stdout",
     "output_type": "stream",
     "text": [
      "ali is eating Pakistan\n"
     ]
    }
   ],
   "source": [
    "Person.eat(p1)"
   ]
  },
  {
   "cell_type": "code",
   "execution_count": 38,
   "id": "1c7feb77-d780-4c1b-90d8-86cf72055bb6",
   "metadata": {},
   "outputs": [],
   "source": [
    "p2 = Person(\"Umer\", \"Male\", 18)"
   ]
  },
  {
   "cell_type": "code",
   "execution_count": 41,
   "id": "433b0ba5-fe09-46f4-98a7-fc7014a4f325",
   "metadata": {},
   "outputs": [
    {
     "name": "stdout",
     "output_type": "stream",
     "text": [
      "Umer is eating Pakistan\n"
     ]
    }
   ],
   "source": [
    "p2.eat()"
   ]
  },
  {
   "cell_type": "code",
   "execution_count": 42,
   "id": "a3ac421c-dff2-4e4c-8eca-41d445e22054",
   "metadata": {},
   "outputs": [],
   "source": [
    "import pandas "
   ]
  },
  {
   "cell_type": "code",
   "execution_count": 43,
   "id": "417360d8-3861-409f-8f03-74874eccf1c1",
   "metadata": {},
   "outputs": [],
   "source": [
    "from sklearn.datasets import load_digits"
   ]
  },
  {
   "cell_type": "code",
   "execution_count": 45,
   "id": "bcfe61a6-0093-4750-9a14-708a7d50004c",
   "metadata": {},
   "outputs": [],
   "source": [
    "dig = load_digits()"
   ]
  },
  {
   "cell_type": "code",
   "execution_count": 47,
   "id": "c61660a9-0121-489c-b57c-c8b1b0613006",
   "metadata": {},
   "outputs": [
    {
     "data": {
      "text/plain": [
       "['DESCR', 'data', 'feature_names', 'frame', 'images', 'target', 'target_names']"
      ]
     },
     "execution_count": 47,
     "metadata": {},
     "output_type": "execute_result"
    }
   ],
   "source": [
    "dir(dig)"
   ]
  },
  {
   "cell_type": "markdown",
   "id": "1be73b4c-e558-48c4-961c-44eb9e311012",
   "metadata": {},
   "source": [
    "# Object Class"
   ]
  },
  {
   "cell_type": "code",
   "execution_count": 49,
   "id": "19883eb1-ac02-47c4-9f67-811590e93979",
   "metadata": {},
   "outputs": [],
   "source": [
    "class Mobile():\n",
    "    def __init__(self, storage, ram, pixel, model):\n",
    "        self.storage = storage\n",
    "        self.ram = ram\n",
    "        self.pixel = pixel\n",
    "        self.model = model\n",
    "    def features(self):\n",
    "        print(f\"\"\"\n",
    "            It has {self.storage} GB storage capacity, {self.ram} GB RAM, {self.pixel} Camera and it is {self.model}...\n",
    "            \"\"\")"
   ]
  },
  {
   "cell_type": "code",
   "execution_count": 50,
   "id": "e71d7d6d-f7d8-4d64-8c23-bb0277f67e56",
   "metadata": {},
   "outputs": [],
   "source": [
    "mobile = Mobile(16, 2, 1024, 2018)"
   ]
  },
  {
   "cell_type": "code",
   "execution_count": 51,
   "id": "ad6f46ad-cc15-4242-b5b9-9b40af4610e2",
   "metadata": {},
   "outputs": [
    {
     "name": "stdout",
     "output_type": "stream",
     "text": [
      "\n",
      "            It has 16 GB storage capacity, 2 GB RAM, 1024 Camera and it is 2018...\n",
      "            \n"
     ]
    }
   ],
   "source": [
    "mobile.features()"
   ]
  },
  {
   "cell_type": "code",
   "execution_count": 5,
   "id": "92eb1521-be92-49d9-b1e6-852ffc2b580d",
   "metadata": {},
   "outputs": [],
   "source": [
    "class User():\n",
    "    def __init__(self, first_name, last_name, age, gender):\n",
    "        self.first_name = first_name\n",
    "        self.last_name = last_name\n",
    "        self.age = age\n",
    "        self.gender = gender\n",
    "    def describe_user(self):\n",
    "        print(f\"\"\"\n",
    "            Name: {self.first_name+\" \"+self.last_name}\n",
    "            Age: {self.age}\n",
    "            Gender: {self.gender}\n",
    "        \"\"\")\n",
    "    def greeet_user(self):\n",
    "        print(f\"\"\"Welcome {self.first_name+\" \"+self.last_name}\"\"\")"
   ]
  },
  {
   "cell_type": "code",
   "execution_count": 6,
   "id": "ed84f72f-9522-4944-b25a-d9458bb781a8",
   "metadata": {},
   "outputs": [],
   "source": [
    "user1 = User(\"Muhammad Umer\", \"Khan\", 18, \"Male\")"
   ]
  },
  {
   "cell_type": "code",
   "execution_count": 7,
   "id": "71e59bc0-15b4-4501-9e71-b7fbfe68457d",
   "metadata": {},
   "outputs": [
    {
     "name": "stdout",
     "output_type": "stream",
     "text": [
      "\n",
      "            Name: Muhammad Umer Khan\n",
      "            Age: 18\n",
      "            Gender: Male\n",
      "        \n"
     ]
    }
   ],
   "source": [
    "user1.describe_user()"
   ]
  },
  {
   "cell_type": "code",
   "execution_count": 8,
   "id": "bef63c82-98b1-41b3-adf1-91f9672ecdad",
   "metadata": {},
   "outputs": [
    {
     "name": "stdout",
     "output_type": "stream",
     "text": [
      "Welcome Muhammad Umer Khan\n"
     ]
    }
   ],
   "source": [
    "user1.greeet_user()"
   ]
  },
  {
   "cell_type": "code",
   "execution_count": null,
   "id": "d7898121-78e8-421b-8e89-4e5d0964e697",
   "metadata": {},
   "outputs": [],
   "source": []
  }
 ],
 "metadata": {
  "kernelspec": {
   "display_name": "Python 3 (ipykernel)",
   "language": "python",
   "name": "python3"
  },
  "language_info": {
   "codemirror_mode": {
    "name": "ipython",
    "version": 3
   },
   "file_extension": ".py",
   "mimetype": "text/x-python",
   "name": "python",
   "nbconvert_exporter": "python",
   "pygments_lexer": "ipython3",
   "version": "3.12.2"
  },
  "widgets": {
   "application/vnd.jupyter.widget-state+json": {
    "state": {},
    "version_major": 2,
    "version_minor": 0
   }
  }
 },
 "nbformat": 4,
 "nbformat_minor": 5
}
