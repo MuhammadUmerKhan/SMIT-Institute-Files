{
 "cells": [
  {
   "cell_type": "markdown",
   "id": "5c5ef51c",
   "metadata": {},
   "source": [
    "# Functions Assignments"
   ]
  },
  {
   "cell_type": "markdown",
   "id": "c548a3bf",
   "metadata": {},
   "source": [
    "## Define a function named addition that takes two parameters a and b and returns their sum.\n",
    "\n",
    "- Input: addition(3, 5)\n",
    "- Output: 8"
   ]
  },
  {
   "cell_type": "code",
   "execution_count": 1,
   "id": "c404ff8d",
   "metadata": {},
   "outputs": [
    {
     "data": {
      "text/plain": [
       "4"
      ]
     },
     "execution_count": 1,
     "metadata": {},
     "output_type": "execute_result"
    }
   ],
   "source": [
    "# write your code here\n",
    "def addition(a, b):\n",
    "    return a + b\n",
    "\n",
    "addition(2, 2)"
   ]
  },
  {
   "cell_type": "markdown",
   "id": "edbcab81",
   "metadata": {},
   "source": [
    "## Write a function called multiply that accepts two arguments and returns the result of multiplying them together.\n",
    "\n",
    "- Input: multiply(4, 6)\n",
    "- Output: 24"
   ]
  },
  {
   "cell_type": "code",
   "execution_count": 2,
   "id": "7aceae84",
   "metadata": {},
   "outputs": [
    {
     "data": {
      "text/plain": [
       "4"
      ]
     },
     "execution_count": 2,
     "metadata": {},
     "output_type": "execute_result"
    }
   ],
   "source": [
    "# Write your code here\n",
    "# write your code here\n",
    "def multiply(a, b):\n",
    "    return a * b\n",
    "\n",
    "addition(2, 2)"
   ]
  },
  {
   "cell_type": "markdown",
   "id": "1f0e888d",
   "metadata": {},
   "source": [
    "## Create a function named power that takes two parameters: base and exponent, and returns base raised to the power of exponent.\n",
    "\n",
    "- Input: power(2, 3)\n",
    "- Output: 8"
   ]
  },
  {
   "cell_type": "code",
   "execution_count": 5,
   "id": "92453704",
   "metadata": {},
   "outputs": [
    {
     "data": {
      "text/plain": [
       "343"
      ]
     },
     "execution_count": 5,
     "metadata": {},
     "output_type": "execute_result"
    }
   ],
   "source": [
    "7*7*7"
   ]
  },
  {
   "cell_type": "code",
   "execution_count": 4,
   "id": "d69b6e7f",
   "metadata": {},
   "outputs": [
    {
     "data": {
      "text/plain": [
       "343"
      ]
     },
     "execution_count": 4,
     "metadata": {},
     "output_type": "execute_result"
    }
   ],
   "source": [
    "# Write your code here\n",
    "def power(base, exponent):\n",
    "    num = 1\n",
    "    for i in range(exponent):\n",
    "        num *= base\n",
    "    return num\n",
    "power(7, 3)"
   ]
  },
  {
   "cell_type": "markdown",
   "id": "2a0256a1",
   "metadata": {},
   "source": [
    "## Define a function named is_even that takes an integer parameter num and returns True if the number is even, otherwise False.\n",
    "\n",
    "- Input: is_even(7)\n",
    "- Output: False"
   ]
  },
  {
   "cell_type": "code",
   "execution_count": 6,
   "id": "e532d0d7",
   "metadata": {},
   "outputs": [
    {
     "data": {
      "text/plain": [
       "False"
      ]
     },
     "execution_count": 6,
     "metadata": {},
     "output_type": "execute_result"
    }
   ],
   "source": [
    "# Write your code here\n",
    "def is_even(num):\n",
    "    if (int(num) % 2 == 0):\n",
    "        return True\n",
    "    else:\n",
    "        return False\n",
    "    \n",
    "is_even(7)"
   ]
  },
  {
   "cell_type": "markdown",
   "id": "c5ee8e64",
   "metadata": {},
   "source": [
    "## Write a function called factorial that calculates the factorial of a given number n.\n",
    "\n",
    "- Input: factorial(5)\n",
    "- Output: 120"
   ]
  },
  {
   "cell_type": "code",
   "execution_count": 11,
   "id": "68bdedde",
   "metadata": {},
   "outputs": [
    {
     "data": {
      "text/plain": [
       "40320"
      ]
     },
     "execution_count": 11,
     "metadata": {},
     "output_type": "execute_result"
    }
   ],
   "source": [
    "import math\n",
    "math.factorial(8)"
   ]
  },
  {
   "cell_type": "code",
   "execution_count": 10,
   "id": "fd12db8c",
   "metadata": {},
   "outputs": [
    {
     "name": "stdout",
     "output_type": "stream",
     "text": [
      "120\n"
     ]
    }
   ],
   "source": [
    "n = 5\n",
    "num = 1\n",
    "for i in range(n):\n",
    "    num *= n-i\n",
    "print(num)"
   ]
  },
  {
   "cell_type": "code",
   "execution_count": 4,
   "id": "90bcbeab",
   "metadata": {},
   "outputs": [
    {
     "data": {
      "text/plain": [
       "120"
      ]
     },
     "execution_count": 4,
     "metadata": {},
     "output_type": "execute_result"
    }
   ],
   "source": [
    "# Write your code here\n",
    "def factorial(num):\n",
    "    factorial_num = 1\n",
    "    for i in range(num):\n",
    "        factorial_num *= i+1\n",
    "    return factorial_num\n",
    "factorial(5)"
   ]
  },
  {
   "cell_type": "markdown",
   "id": "ccb2e052",
   "metadata": {},
   "source": [
    "## Create a function named is_palindrome that takes a string parameter text and returns True if the text is a palindrome, otherwise False.\n",
    "\n",
    "- Input: is_palindrome(\"radar\")\n",
    "- Output: True\n",
    "\n",
    "- Note: A palindrome is a word, phrase, number, or other sequence of characters that reads the same forward and backward.Example: \"radar\" is a palindrome because it reads the same forward and backward."
   ]
  },
  {
   "cell_type": "code",
   "execution_count": 21,
   "id": "c7b889fd",
   "metadata": {},
   "outputs": [
    {
     "name": "stdout",
     "output_type": "stream",
     "text": [
      "ila\n",
      "ila\n"
     ]
    }
   ],
   "source": [
    "s1 = 'ali'\n",
    "s2 = ''\n",
    "for i in s1:\n",
    "    s2 = i+s2\n",
    "    \n",
    "print(s2)\n",
    "# print(s2) "
   ]
  },
  {
   "cell_type": "code",
   "execution_count": 15,
   "id": "3bec9d72",
   "metadata": {},
   "outputs": [
    {
     "data": {
      "text/plain": [
       "True"
      ]
     },
     "execution_count": 15,
     "metadata": {},
     "output_type": "execute_result"
    }
   ],
   "source": [
    "# Write your code here\n",
    "def is_palindrome(string):\n",
    "    string = str(string).lower()\n",
    "    # print(string)\n",
    "    if string == string[::-1]:\n",
    "        return True\n",
    "    else: \n",
    "        return False\n",
    "is_palindrome('Radar')"
   ]
  },
  {
   "cell_type": "markdown",
   "id": "b48d35b2",
   "metadata": {},
   "source": [
    "## Define a function named unique_elements that takes a list parameter lst and returns a list containing only the unique elements of the input list.\n",
    "`\n",
    "- Input: unique_elements([1, 2, 3, 3, 4, 5, 5])\n",
    "- Output: [1, 2, 3, 4, 5]"
   ]
  },
  {
   "cell_type": "code",
   "execution_count": 33,
   "id": "e655c202",
   "metadata": {},
   "outputs": [
    {
     "data": {
      "text/plain": [
       "[1, 2, 3323, 232]"
      ]
     },
     "execution_count": 33,
     "metadata": {},
     "output_type": "execute_result"
    }
   ],
   "source": [
    "def unique_element(list_):\n",
    "    new = []\n",
    "    for i in list_:\n",
    "        if i not in new:\n",
    "            new.append(i)\n",
    "    return new\n",
    "unique_element([1, 2, 3323, 232, 2 ,2 ])"
   ]
  },
  {
   "cell_type": "code",
   "execution_count": 27,
   "id": "d053f6e3",
   "metadata": {},
   "outputs": [
    {
     "data": {
      "text/plain": [
       "[232, 1, 2, 3323]"
      ]
     },
     "execution_count": 27,
     "metadata": {},
     "output_type": "execute_result"
    }
   ],
   "source": [
    "def unique_element(list_):\n",
    "    list_ = list(set(list_))\n",
    "    return list_\n",
    "unique_element([1, 2, 3323, 232, 2 ,2 ])"
   ]
  },
  {
   "cell_type": "markdown",
   "id": "79be0766",
   "metadata": {},
   "source": [
    "## Write a function called average that calculates the average of a list of numbers passed as a parameter.\n",
    "\n",
    "- Input: average([1, 2, 3, 4, 5])\n",
    "- Output: 3.0"
   ]
  },
  {
   "cell_type": "code",
   "execution_count": 38,
   "id": "a6a1e394",
   "metadata": {},
   "outputs": [
    {
     "data": {
      "text/plain": [
       "3.0"
      ]
     },
     "execution_count": 38,
     "metadata": {},
     "output_type": "execute_result"
    }
   ],
   "source": [
    "# Write your code here\n",
    "def average(list_):\n",
    "    num = 0\n",
    "    for i in list_:\n",
    "        num += i\n",
    "    return num/len(list_)\n",
    "    \n",
    "average([1, 2, 3, 4, 5])"
   ]
  },
  {
   "cell_type": "markdown",
   "id": "d231e8ad",
   "metadata": {},
   "source": [
    "## Create a function named is_prime that takes an integer parameter num and returns True if the number is prime, otherwise False.\n",
    "\n",
    "- Input: is_prime(7)\n",
    "- Output: True"
   ]
  },
  {
   "cell_type": "code",
   "execution_count": 39,
   "id": "3edf9891",
   "metadata": {},
   "outputs": [
    {
     "data": {
      "text/plain": [
       "True"
      ]
     },
     "execution_count": 39,
     "metadata": {},
     "output_type": "execute_result"
    }
   ],
   "source": [
    "# Write your code here\n",
    "def is_prime(num):\n",
    "    num = int(num)\n",
    "    if num <= 1:\n",
    "        return False\n",
    "    elif num <= 3:\n",
    "        return True\n",
    "    elif (num%2==0) or (num%3==0):\n",
    "        return False\n",
    "    number = 5\n",
    "    while number * number <= 10:\n",
    "        if number % number == 0 or number % (number + 2) == 0:\n",
    "            return False\n",
    "        number += 6\n",
    "    return True\n",
    "\n",
    "is_prime(17)"
   ]
  },
  {
   "cell_type": "markdown",
   "id": "5703b54e",
   "metadata": {},
   "source": [
    "## Define a function named reverse_list that takes a list parameter lst and returns a new list with the elements reversed.\n",
    "\n",
    "- Input: reverse_list([1, 2, 3, 4, 5])\n",
    "- Output: [5, 4, 3, 2, 1]"
   ]
  },
  {
   "cell_type": "code",
   "execution_count": 45,
   "id": "04f9c4c7",
   "metadata": {},
   "outputs": [
    {
     "data": {
      "text/plain": [
       "[5, 4, 3, 2, 1]"
      ]
     },
     "execution_count": 45,
     "metadata": {},
     "output_type": "execute_result"
    }
   ],
   "source": [
    "# Write your code here\n",
    "def reverse_list(list_):\n",
    "    list = []\n",
    "    for i in (list_):\n",
    "        list.insert(0, i)\n",
    "    return list\n",
    "reverse_list([1, 2, 3 , 4, 5])"
   ]
  },
  {
   "cell_type": "code",
   "execution_count": 41,
   "id": "66e2da04",
   "metadata": {},
   "outputs": [
    {
     "data": {
      "text/plain": [
       "[5, 4, 3, 2, 1]"
      ]
     },
     "execution_count": 41,
     "metadata": {},
     "output_type": "execute_result"
    }
   ],
   "source": [
    "# Write your code here\n",
    "def reverse_list(list_):\n",
    "    return list_[::-1]\n",
    "reverse_list([1, 2, 3 , 4, 5])"
   ]
  },
  {
   "cell_type": "markdown",
   "id": "6caecb2e",
   "metadata": {},
   "source": [
    "## Write a Python program to print the even numbers from a given list.\n",
    "\n",
    "- Sample List : [1, 2, 3, 4, 5, 6, 7, 8, 9]\n",
    "- Expected Result : [2, 4, 6, 8]"
   ]
  },
  {
   "cell_type": "code",
   "execution_count": 43,
   "id": "f01e1fb0",
   "metadata": {},
   "outputs": [
    {
     "name": "stdout",
     "output_type": "stream",
     "text": [
      "[2, 4, 6, 8]\n"
     ]
    }
   ],
   "source": [
    "# Write your code here\n",
    "sample_list = [1, 2, 3, 4, 5, 6, 7, 8, 9]\n",
    "exp_list = []\n",
    "for i in sample_list:\n",
    "    if (i%2==0):\n",
    "        exp_list.append(i)\n",
    "print(exp_list)\n",
    "    "
   ]
  },
  {
   "cell_type": "markdown",
   "id": "98becd65",
   "metadata": {},
   "source": [
    "## Write a Python function that accepts a string and counts the number of upper and lower case letters.\n",
    "Sample String : 'The quick Brow Fox'\n",
    "    \n",
    "- Expected Output :\n",
    "- No. of Upper case characters : 3\n",
    "- No. of Lower case Characters : 12"
   ]
  },
  {
   "cell_type": "code",
   "execution_count": 50,
   "id": "dc0ce442",
   "metadata": {},
   "outputs": [
    {
     "name": "stdout",
     "output_type": "stream",
     "text": [
      "No. of Lower case characters :  12 \n",
      "No. of Upper case characters :  3\n"
     ]
    }
   ],
   "source": [
    "def count_cases(string):\n",
    "    lowercase_count = 0\n",
    "    uppercase_count = 0\n",
    "    \n",
    "    for char in string:\n",
    "        if char.islower():\n",
    "            lowercase_count += 1\n",
    "        elif char.isupper():\n",
    "            uppercase_count += 1\n",
    "    \n",
    "    return print(\"No. of Lower case characters : \", lowercase_count, \"\\nNo. of Upper case characters : \", uppercase_count)\n",
    "\n",
    "input_string = \"The quick Brow Fox\"\n",
    "count_cases(input_string)\n",
    "\n"
   ]
  },
  {
   "cell_type": "markdown",
   "id": "d6ce8996",
   "metadata": {},
   "source": [
    "## Write a Python function to multiply all the numbers in a list.\n",
    "\n",
    "- Sample List : (8, 2, 3, -1, 7)\n",
    "- Expected Output : -336"
   ]
  },
  {
   "cell_type": "code",
   "execution_count": 48,
   "id": "ef18c810",
   "metadata": {},
   "outputs": [
    {
     "name": "stdout",
     "output_type": "stream",
     "text": [
      "-336\n"
     ]
    }
   ],
   "source": [
    "# Write your code here\n",
    "list = [8, 2, 3, -1, 7]\n",
    "num = 1\n",
    "for i in list:\n",
    "    num *= i\n",
    "print(num)\n",
    "    "
   ]
  },
  {
   "cell_type": "markdown",
   "id": "c1909bdd",
   "metadata": {},
   "source": [
    "## Write a Python program for a given string S which may contain lowercase and uppercase characters. The task is to remove all duplicate characters from the string and find the resultant string.\n",
    "\n",
    "- Input: Str = HappyNewYear\n",
    "- Output: HapyNewYr\n",
    "- Explanation: After removing duplicate characters such as p, e, a, we have string as “HapyNewYr”."
   ]
  },
  {
   "cell_type": "code",
   "execution_count": 56,
   "id": "44a63518",
   "metadata": {},
   "outputs": [
    {
     "data": {
      "text/plain": [
       "'HapyNewYr'"
      ]
     },
     "execution_count": 56,
     "metadata": {},
     "output_type": "execute_result"
    }
   ],
   "source": [
    "# Write your code here\n",
    "str = \"HappyNewYear\"\n",
    "str_1 = ''\n",
    "for i in str:\n",
    "    if i not in str_1:\n",
    "        str_1 = str_1+i\n",
    "print(str_1)"
   ]
  },
  {
   "cell_type": "markdown",
   "id": "9d6cd084",
   "metadata": {},
   "source": [
    "## Define a function named square_dict that takes a list of integers as input and returns a dictionary where each key-value pair consists of an element from the input list as the key and its square as the value.\n",
    "\n",
    "- Input: [1, 2, 3, 4, 5]\n",
    "- Output: {1: 1, 2: 4, 3: 9, 4: 16, 5: 25}\n",
    "- Note: You can use dictionary comprehension for better practices "
   ]
  },
  {
   "cell_type": "code",
   "execution_count": 60,
   "id": "cbf2b6fa",
   "metadata": {},
   "outputs": [
    {
     "data": {
      "text/plain": [
       "{1: 1, 2: 4, 3: 9, 4: 16, 5: 25}"
      ]
     },
     "execution_count": 60,
     "metadata": {},
     "output_type": "execute_result"
    }
   ],
   "source": [
    "# Write your code here\n",
    "def square_dict(list):\n",
    "    ddict = {}\n",
    "    for i in list:\n",
    "        # ddict.keys() = i\n",
    "        ddict[i] = i*i\n",
    "    return ddict\n",
    "square_dict([1, 2, 3, 4, 5])"
   ]
  },
  {
   "cell_type": "markdown",
   "id": "a572346f",
   "metadata": {},
   "source": [
    "## Given a list in Python and provided the positions of the elements, write a fucntion to swap the two elements in the list.\n",
    "\n",
    "- Input : List = [1, 2, 3, 4, 5], pos1 = 2, pos2 = 5\n",
    "- Output : [1, 5, 3, 4, 2]"
   ]
  },
  {
   "cell_type": "code",
   "execution_count": 73,
   "id": "0f558ff5",
   "metadata": {},
   "outputs": [
    {
     "data": {
      "text/plain": [
       "[1, 4, 3, 2, 5]"
      ]
     },
     "execution_count": 73,
     "metadata": {},
     "output_type": "execute_result"
    }
   ],
   "source": [
    "# write you code here\n",
    "def swapping(list, position_1, position_2):\n",
    "    second_num = list[position_1] #1\n",
    "    list[position_1] = list[position_2] # 4\n",
    "    list[position_2] = second_num\n",
    "    \n",
    "    return list\n",
    "swapping([1, 2, 3, 4, 5], 1, 3)"
   ]
  },
  {
   "cell_type": "markdown",
   "id": "e924dbe4",
   "metadata": {},
   "source": [
    "## Write a python function to remove a letter \"e\" from the string \"elephant\".\n",
    "\n",
    "- output = 'lphant' (all 'e' characters are removed)"
   ]
  },
  {
   "cell_type": "code",
   "execution_count": 76,
   "id": "01807c75",
   "metadata": {},
   "outputs": [
    {
     "data": {
      "text/plain": [
       "'lphant'"
      ]
     },
     "execution_count": 76,
     "metadata": {},
     "output_type": "execute_result"
    }
   ],
   "source": [
    "# Write your code here\n",
    "# Write your code here\n",
    "def letter(str):\n",
    "    str = str.lower()\n",
    "    str_1 = ''\n",
    "    for i in str:\n",
    "        if i != 'e':\n",
    "            str_1 = str_1+i\n",
    "    return str_1\n",
    "letter(\"Elephant\")"
   ]
  },
  {
   "cell_type": "markdown",
   "id": "11cb9b97",
   "metadata": {},
   "source": [
    "## Write a python function to remove duplicate character from a string.\n",
    "\n",
    "- Input: 'levels'\n",
    "- output: 'vs' (l and e are removed since they are repeating characters in the string)"
   ]
  },
  {
   "cell_type": "markdown",
   "id": "f60edec7",
   "metadata": {},
   "source": [
    "## Write a python function to count the frequencies of each character in the given string and stored it in a dictionary format.\n",
    "\n",
    "- Input: 'listen'\n",
    "- Output : {'l':1, 'i':1, 's':1, 't':1, 'e':1, 'n':1}"
   ]
  },
  {
   "cell_type": "code",
   "execution_count": 55,
   "id": "ea90d887",
   "metadata": {},
   "outputs": [
    {
     "name": "stdout",
     "output_type": "stream",
     "text": [
      "{'l': 1, 'i': 1, 's': 1, 't': 1, 'e': 1, 'n': 1}\n"
     ]
    }
   ],
   "source": [
    "def count_character_frequency(input_string):\n",
    "    frequency_dict = {}\n",
    "    for char in input_string:\n",
    "        if char in frequency_dict:\n",
    "            frequency_dict[char] += 1\n",
    "        else:\n",
    "            frequency_dict[char] = 1\n",
    "    \n",
    "    return frequency_dict\n",
    "\n",
    "input_string = 'listen'\n",
    "frequency_dict = count_character_frequency(input_string)\n",
    "print(frequency_dict)\n"
   ]
  },
  {
   "cell_type": "markdown",
   "id": "eb915380",
   "metadata": {},
   "source": [
    "## Write a Python function named get_initials that takes a string as input and returns the initials of each word in the string, separated by dots.\n",
    "\n",
    "- Input: \"John Doe\"\n",
    "- Output: \"J.D\""
   ]
  },
  {
   "cell_type": "code",
   "execution_count": 52,
   "id": "a2aeca74",
   "metadata": {},
   "outputs": [
    {
     "name": "stdout",
     "output_type": "stream",
     "text": [
      "D\n"
     ]
    },
    {
     "data": {
      "text/plain": [
       "'J.D'"
      ]
     },
     "execution_count": 52,
     "metadata": {},
     "output_type": "execute_result"
    }
   ],
   "source": [
    "# Write your code here\n",
    "def get_initial(name):\n",
    "    first = name[0]\n",
    "    second = name.split(' ')[1][0]\n",
    "    return first+'.'+second    \n",
    "get_initial(\"John Doe\")"
   ]
  }
 ],
 "metadata": {
  "kernelspec": {
   "display_name": "Python 3 (ipykernel)",
   "language": "python",
   "name": "python3"
  },
  "language_info": {
   "codemirror_mode": {
    "name": "ipython",
    "version": 3
   },
   "file_extension": ".py",
   "mimetype": "text/x-python",
   "name": "python",
   "nbconvert_exporter": "python",
   "pygments_lexer": "ipython3",
   "version": "3.12.2"
  }
 },
 "nbformat": 4,
 "nbformat_minor": 5
}
