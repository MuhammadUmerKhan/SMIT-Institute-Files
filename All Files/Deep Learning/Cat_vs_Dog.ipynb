{
  "cells": [
    {
      "cell_type": "markdown",
      "metadata": {
        "id": "KYCWenr2qyub"
      },
      "source": [
        "<div style=\"text-align: center;\">\n",
        "    <p style=\"background-color: #8aeb92; color: #910909; font-size: 2.0em; font-family: 'Arial', sans-serif; text-align: center; border-radius: 25px; border: 4px solid #910909; display: inline-block; padding: 20px 20px; margin: 0 auto; line-height: 1.5; font-weight: bold; box-shadow: 0px 4px 10px rgba(0, 0, 0, 0.3);\">\n",
        "        🐱🐶 Cat or Dog? Binary Classification using Deep Learning 🧠📊\n",
        "    </p>\n",
        "</div>\n"
      ]
    },
    {
      "cell_type": "markdown",
      "metadata": {
        "id": "_dZM1h5aq3xO"
      },
      "source": [
        "<div style=\"text-align: center;\">\n",
        "    <p style=\"background-color: #8aeb92; color: #910909; font-size: 2.0em; font-family: 'Arial', sans-serif; text-align: center; border-radius: 25px; border: 4px solid #910909; display: inline-block; padding: 20px 20px; margin: 0 auto; line-height: 1.5; font-weight: bold; box-shadow: 0px 4px 10px rgba(0, 0, 0, 0.3);\">\n",
        "        📊 About the Dataset 🐱🐶\n",
        "    </p>\n",
        "    <p style=\"font-size: 1.0em; font-family: 'Arial', sans-serif; text-align: justify; line-height: 1.5; padding: 10px;\">\n",
        "        This dataset contains two classes of images: <a href = \"https://www.kaggle.com/datasets/shaunthesheep/microsoft-catsvsdogs-dataset\"><b>Cats</b> and <b>Dogs</b></a>. It is well-suited for binary classification tasks in computer vision, where the objective is to build a model that can differentiate between these two categories. Each image in the dataset is labeled accordingly, making it an excellent resource for training, validating, and testing deep learning models focused on binary image classification.\n",
        "    </p>\n",
        "</div>\n"
      ]
    },
    {
      "cell_type": "markdown",
      "metadata": {
        "id": "5V-o5DIpzNYa"
      },
      "source": [
        "<div style=\"text-align: center;\">\n",
        "    <p style=\"background-color: #8aeb92; color: #910909; font-size: 2.0em; font-family: 'Arial', sans-serif; text-align: center; border-radius: 25px; border: 4px solid #910909; display: inline-block; padding: 20px 20px; margin: 0 auto; line-height: 1.5; font-weight: bold; box-shadow: 0px 4px 10px rgba(0, 0, 0, 0.3);\">\n",
        "        📊 Import Libraries 🐱🐶\n",
        "    </p>\n",
        "</div>\n"
      ]
    },
    {
      "cell_type": "code",
      "execution_count": null,
      "metadata": {
        "id": "9FCAz1fxf4yR"
      },
      "outputs": [],
      "source": [
        "import os\n",
        "import PIL\n",
        "import glob\n",
        "import shutil\n",
        "import random\n",
        "import pandas as pd\n",
        "from PIL import Image\n",
        "import tensorflow as tf\n",
        "import tensorflow_hub as hub\n",
        "import tf_keras as keras\n",
        "import matplotlib.pyplot as plt\n",
        "from tensorflow.keras.preprocessing.image import ImageDataGenerator\n",
        "from tensorflow.keras.layers import Conv2D, Add, MaxPooling2D, Dense, BatchNormalization, Dropout, Flatten\n",
        "from tensorflow.keras.models import Sequential\n",
        "from tensorflow.keras.applications import ResNet50, VGG16, MobileNetV2"
      ]
    },
    {
      "cell_type": "markdown",
      "metadata": {
        "id": "Kpxb10Afq8AQ"
      },
      "source": [
        "<div style=\"text-align: center;\">\n",
        "    <p style=\"background-color: #8aeb92; color: #910909; font-size: 2.0em; font-family: 'Arial', sans-serif; text-align: center; border-radius: 25px; border: 4px solid #910909; display: inline-block; padding: 20px 20px; margin: 0 auto; line-height: 1.5; font-weight: bold; box-shadow: 0px 4px 10px rgba(0, 0, 0, 0.3);\">\n",
        "        📂 Loading\n",
        "    </p>\n",
        "    <p style=\"font-size: 1.0em; font-family: 'Arial', sans-serif; text-align: justify; line-height: 1.5; padding: 10px;\">\n",
        "        In this section, we import the necessary libraries and specify the path to our dataset. Using the <code>os</code> library, we access the dataset directory and automatically identify the class names from the folder structure. This allows us to confirm the two categories, Cats and Dogs, which will be used for binary classification. Displaying the class names helps verify the dataset setup before proceeding with further processing.\n",
        "    </p>\n",
        "</div>\n"
      ]
    },
    {
      "cell_type": "markdown",
      "metadata": {
        "id": "zygC3GSmzn3B"
      },
      "source": [
        "### <b><i><center> Cruppted Image Remover"
      ]
    },
    {
      "cell_type": "code",
      "execution_count": null,
      "metadata": {
        "id": "bsRP94okl0_P"
      },
      "outputs": [],
      "source": [
        "corrupted_images = []\n",
        "\n",
        "def is_valid_image(image_path):\n",
        "    try:\n",
        "        img = Image.open(image_path)\n",
        "        img.verify()\n",
        "        return True\n",
        "    except (IOError, SyntaxError, PIL.UnidentifiedImageError):\n",
        "        print(f\"Corrupted image: {image_path}\")\n",
        "        corrupted_images.append(image_path)\n",
        "        return False"
      ]
    },
    {
      "cell_type": "markdown",
      "metadata": {
        "id": "cSWRsO9yzq3C"
      },
      "source": [
        "<div style=\"text-align: center;\">\n",
        "    <p style=\"background-color: #8aeb92; color: #910909; font-size: 2.0em; font-family: 'Arial', sans-serif; text-align: center; border-radius: 25px; border: 4px solid #910909; display: inline-block; padding: 20px 20px; margin: 0 auto; line-height: 1.5; font-weight: bold; box-shadow: 0px 4px 10px rgba(0, 0, 0, 0.3);\">\n",
        "        📊 Loading Data From <b>KAGGLE</b> 🐱🐶\n",
        "    </p>\n",
        "</div>\n"
      ]
    },
    {
      "cell_type": "code",
      "execution_count": null,
      "metadata": {
        "colab": {
          "background_save": true
        },
        "id": "RN2oJltweYMw",
        "outputId": "08e0df75-8d2e-4b41-8d39-705bb68aac14"
      },
      "outputs": [
        {
          "name": "stdout",
          "output_type": "stream",
          "text": [
            "Warning: Looks like you're using an outdated `kagglehub` version (installed: 0.3.5), please consider upgrading to the latest version (0.3.6).\n",
            "Downloading from https://www.kaggle.com/api/v1/datasets/download/shaunthesheep/microsoft-catsvsdogs-dataset?dataset_version_number=1...\n"
          ]
        },
        {
          "name": "stderr",
          "output_type": "stream",
          "text": [
            "100%|██████████| 788M/788M [00:06<00:00, 132MB/s]"
          ]
        },
        {
          "name": "stdout",
          "output_type": "stream",
          "text": [
            "Extracting files...\n"
          ]
        },
        {
          "name": "stderr",
          "output_type": "stream",
          "text": [
            "\n"
          ]
        },
        {
          "name": "stdout",
          "output_type": "stream",
          "text": [
            "Path to dataset files: /root/.cache/kagglehub/datasets/shaunthesheep/microsoft-catsvsdogs-dataset/versions/1\n"
          ]
        }
      ],
      "source": [
        "import kagglehub\n",
        "path = kagglehub.dataset_download(\"shaunthesheep/microsoft-catsvsdogs-dataset\")\n",
        "\n",
        "print(\"Path to dataset files:\", path)"
      ]
    },
    {
      "cell_type": "code",
      "execution_count": null,
      "metadata": {
        "colab": {
          "background_save": true
        },
        "id": "5IB6lcHVvFai",
        "outputId": "f71eb8f8-a8c6-4f28-b354-a62962d5c353"
      },
      "outputs": [
        {
          "name": "stdout",
          "output_type": "stream",
          "text": [
            "Path to dataset files: /root/.cache/kagglehub/datasets/shaunthesheep/microsoft-catsvsdogs-dataset/versions/1\n",
            "Contents of dataset directory: ['PetImages', 'MSR-LA - 3467.docx', 'readme[1].txt']\n"
          ]
        }
      ],
      "source": [
        "print(\"Path to dataset files:\", path)\n",
        "print(\"Contents of dataset directory:\", os.listdir(path))"
      ]
    },
    {
      "cell_type": "code",
      "execution_count": null,
      "metadata": {
        "colab": {
          "background_save": true
        },
        "id": "3sh7EQchgPMg"
      },
      "outputs": [],
      "source": [
        "data_dir = os.path.join(path, 'PetImages')"
      ]
    },
    {
      "cell_type": "code",
      "execution_count": null,
      "metadata": {
        "colab": {
          "background_save": true
        },
        "id": "I3gXm55MktBW"
      },
      "outputs": [],
      "source": [
        "output_dir = '/content/data'"
      ]
    },
    {
      "cell_type": "code",
      "execution_count": null,
      "metadata": {
        "colab": {
          "background_save": true
        },
        "id": "QMOtdoAGgmpM"
      },
      "outputs": [],
      "source": [
        "train_dir = os.path.join(output_dir, 'train')\n",
        "val_dir = os.path.join(output_dir, 'val')\n",
        "test_dir = os.path.join(output_dir, 'test')"
      ]
    },
    {
      "cell_type": "code",
      "execution_count": null,
      "metadata": {
        "colab": {
          "background_save": true
        },
        "id": "U2nbZuO8kdD2"
      },
      "outputs": [],
      "source": [
        "for folder in [train_dir, val_dir, test_dir]:\n",
        "    os.makedirs(os.path.join(folder, 'cats'), exist_ok=True)\n",
        "    os.makedirs(os.path.join(folder, 'dogs'), exist_ok=True)"
      ]
    },
    {
      "cell_type": "code",
      "execution_count": null,
      "metadata": {
        "colab": {
          "background_save": true
        },
        "id": "5And-e-ymc4p"
      },
      "outputs": [],
      "source": [
        "cat_images = glob.glob(os.path.join(data_dir, 'Cat', '*'))\n",
        "dog_images = glob.glob(os.path.join(data_dir, 'Dog', '*'))"
      ]
    },
    {
      "cell_type": "code",
      "execution_count": null,
      "metadata": {
        "colab": {
          "background_save": true
        },
        "id": "JTfHnBt7mk6W",
        "outputId": "78f2d0f3-6876-4dd8-d1d5-05583e8f1383"
      },
      "outputs": [
        {
          "name": "stdout",
          "output_type": "stream",
          "text": [
            "Corrupted image: /root/.cache/kagglehub/datasets/shaunthesheep/microsoft-catsvsdogs-dataset/versions/1/PetImages/Cat/666.jpg\n",
            "Corrupted image: /root/.cache/kagglehub/datasets/shaunthesheep/microsoft-catsvsdogs-dataset/versions/1/PetImages/Cat/Thumbs.db\n",
            "Corrupted image: /root/.cache/kagglehub/datasets/shaunthesheep/microsoft-catsvsdogs-dataset/versions/1/PetImages/Dog/Thumbs.db\n"
          ]
        },
        {
          "name": "stderr",
          "output_type": "stream",
          "text": [
            "/usr/local/lib/python3.10/dist-packages/PIL/TiffImagePlugin.py:935: UserWarning: Truncated File Read\n",
            "  warnings.warn(str(msg))\n"
          ]
        },
        {
          "name": "stdout",
          "output_type": "stream",
          "text": [
            "Corrupted image: /root/.cache/kagglehub/datasets/shaunthesheep/microsoft-catsvsdogs-dataset/versions/1/PetImages/Dog/11702.jpg\n"
          ]
        }
      ],
      "source": [
        "cat_images = [img for img in cat_images if is_valid_image(img)]\n",
        "dog_images = [img for img in dog_images if is_valid_image(img)]"
      ]
    },
    {
      "cell_type": "code",
      "execution_count": null,
      "metadata": {
        "colab": {
          "background_save": true
        },
        "id": "eiRQRyNEmozu"
      },
      "outputs": [],
      "source": [
        "random.shuffle(cat_images)\n",
        "random.shuffle(dog_images)"
      ]
    },
    {
      "cell_type": "markdown",
      "metadata": {
        "id": "D1NI76-gVp89"
      },
      "source": [
        "<div style=\"text-align: center;\">\n",
        "    <p style=\"background-color: #8aeb92; color: #910909; font-size: 2.0em; font-family: 'Arial', sans-serif; text-align: center; border-radius: 25px; border: 4px solid #910909; display: inline-block; padding: 20px 20px; margin: 0 auto; line-height: 1.5; font-weight: bold; box-shadow: 0px 4px 10px rgba(0, 0, 0, 0.3);\">\n",
        "        📂 Creating and Splitting Data into Train, Validation and Test Sets\n",
        "    </p>\n",
        "</div>\n"
      ]
    },
    {
      "cell_type": "code",
      "execution_count": null,
      "metadata": {
        "colab": {
          "background_save": true
        },
        "id": "3tybGaS-mzxC"
      },
      "outputs": [],
      "source": [
        "train_cats, val_cats, test_cats = cat_images[:11251], cat_images[11251:11876], cat_images[11876:]\n",
        "train_dogs, val_dogs, test_dogs = dog_images[:11251], dog_images[11251:11876], dog_images[11876:]"
      ]
    },
    {
      "cell_type": "markdown",
      "metadata": {
        "id": "7fWpwHKVzxV2"
      },
      "source": [
        "### <b><i><center> Moving Images to Folders"
      ]
    },
    {
      "cell_type": "code",
      "execution_count": null,
      "metadata": {
        "colab": {
          "background_save": true
        },
        "id": "fYtQ5epSm_LE",
        "outputId": "5d321f2e-9e50-421a-f63b-eefd6ea61c5e"
      },
      "outputs": [
        {
          "name": "stdout",
          "output_type": "stream",
          "text": [
            "Data split and stored in '/content/data' directory\n"
          ]
        }
      ],
      "source": [
        "for img in train_cats:\n",
        "    shutil.copy(img, os.path.join(train_dir, 'cats'))\n",
        "for img in val_cats:\n",
        "    shutil.copy(img, os.path.join(val_dir, 'cats'))\n",
        "for img in test_cats:\n",
        "    shutil.copy(img, os.path.join(test_dir, 'cats'))\n",
        "\n",
        "for img in train_dogs:\n",
        "    shutil.copy(img, os.path.join(train_dir, 'dogs'))\n",
        "for img in val_dogs:\n",
        "    shutil.copy(img, os.path.join(val_dir, 'dogs'))\n",
        "for img in test_dogs:\n",
        "    shutil.copy(img, os.path.join(test_dir, 'dogs'))\n",
        "\n",
        "print(\"Data split and stored in '/content/data' directory\")"
      ]
    },
    {
      "cell_type": "code",
      "execution_count": null,
      "metadata": {
        "colab": {
          "background_save": true
        },
        "id": "shj5AyjYnCg8"
      },
      "outputs": [],
      "source": [
        "base_dir = '/content/data'\n",
        "train_dir = os.path.join(base_dir, 'train')\n",
        "val_dir = os.path.join(base_dir, 'val')\n",
        "test_dir = os.path.join(base_dir, 'test')"
      ]
    },
    {
      "cell_type": "markdown",
      "metadata": {
        "id": "1pN91QOqrBDg"
      },
      "source": [
        "<div style=\"text-align: center;\">\n",
        "    <p style=\"background-color: #8aeb92; color: #910909; font-size: 2.0em; font-family: 'Arial', sans-serif; text-align: center; border-radius: 25px; border: 4px solid #910909; display: inline-block; padding: 20px 20px; margin: 0 auto; line-height: 1.5; font-weight: bold; box-shadow: 0px 4px 10px rgba(0, 0, 0, 0.3);\">\n",
        "        🗂️ Preparing Data Generators for Training, Validation and Testing\n",
        "    </p>\n",
        "    <p style=\"font-size: 1.0em; font-family: 'Arial', sans-serif; text-align: justify; line-height: 1.5; padding: 10px;\">\n",
        "        In this step, we set up data generators to feed images into the model for training and validation. Using TensorFlow's <code>ImageDataGenerator</code>, we preprocess the images by rescaling their pixel values. First, we clean the training and testing directories by removing any invalid images, ensuring a smooth data flow. The data generators are then configured to load images from these directories, resize them to 224x224 pixels, and set a batch size of 32. This setup streamlines the data pipeline, preparing it for efficient model training and evaluation.\n",
        "    </p>\n",
        "</div>\n"
      ]
    },
    {
      "cell_type": "code",
      "execution_count": null,
      "metadata": {
        "colab": {
          "background_save": true
        },
        "id": "k3M6UAKooJKy"
      },
      "outputs": [],
      "source": [
        "train_gen = ImageDataGenerator(rescale = 1./255,\n",
        "                               shear_range = 0.1,\n",
        "                               zoom_range = 0.2,\n",
        "                               horizontal_flip = True,\n",
        "                               width_shift_range = 0.1,\n",
        "                               height_shift_range = 0.1)\n",
        "val_gen = ImageDataGenerator(rescale = 1./255)\n",
        "test_gen = ImageDataGenerator(rescale = 1./255)"
      ]
    },
    {
      "cell_type": "code",
      "execution_count": null,
      "metadata": {
        "colab": {
          "background_save": true
        },
        "id": "_Js1NUnCol_r",
        "outputId": "36ddd9be-ec79-43c8-cd93-ea6b6ae74f0f"
      },
      "outputs": [
        {
          "name": "stdout",
          "output_type": "stream",
          "text": [
            "Found 22502 images belonging to 2 classes.\n",
            "Found 1250 images belonging to 2 classes.\n",
            "Found 1246 images belonging to 2 classes.\n"
          ]
        }
      ],
      "source": [
        "train_generator = train_gen.flow_from_directory(\n",
        "        '/content/data/train',\n",
        "        target_size = (224, 224),\n",
        "        batch_size = 128,\n",
        "        class_mode = 'binary')\n",
        "\n",
        "val_generator = val_gen.flow_from_directory(\n",
        "        '/content/data/val',\n",
        "        target_size = (224, 224),\n",
        "        batch_size = 128,\n",
        "        class_mode = 'binary')\n",
        "\n",
        "test_generator = test_gen.flow_from_directory(\n",
        "        '/content/data/test',\n",
        "        target_size = (224, 224),\n",
        "        batch_size = 128,\n",
        "        class_mode = 'binary')"
      ]
    },
    {
      "cell_type": "markdown",
      "metadata": {
        "id": "v9rBm-ZzrHJJ"
      },
      "source": [
        "<div style=\"text-align: center;\">\n",
        "    <p style=\"background-color: #8aeb92; color: #910909; font-size: 2.0em; font-family: 'Arial', sans-serif; text-align: center; border-radius: 25px; border: 4px solid #910909; display: inline-block; padding: 20px 20px; margin: 0 auto; line-height: 1.5; font-weight: bold; box-shadow: 0px 4px 10px rgba(0, 0, 0, 0.3);\">\n",
        "        🏗️ Building a CNN Model From Scratch\n",
        "    </p>\n",
        "</div>\n"
      ]
    },
    {
      "cell_type": "code",
      "execution_count": null,
      "metadata": {
        "colab": {
          "background_save": true
        },
        "id": "mVr7uR4ppFDg",
        "outputId": "aa19b576-a714-450b-97dd-339f7b087ce3"
      },
      "outputs": [
        {
          "name": "stderr",
          "output_type": "stream",
          "text": [
            "/usr/local/lib/python3.10/dist-packages/keras/src/layers/convolutional/base_conv.py:107: UserWarning: Do not pass an `input_shape`/`input_dim` argument to a layer. When using Sequential models, prefer using an `Input(shape)` object as the first layer in the model instead.\n",
            "  super().__init__(activity_regularizer=activity_regularizer, **kwargs)\n"
          ]
        }
      ],
      "source": [
        "model = tf.keras.models.Sequential()\n",
        "\n",
        "# first layer\n",
        "model.add(Conv2D(32, (3,3), activation = 'relu', input_shape = (224, 224, 3)))\n",
        "model.add(BatchNormalization())\n",
        "model.add(MaxPooling2D(pool_size = (2,2)))\n",
        "model.add(Dropout(0.2))\n",
        "\n",
        "# 2nd layer\n",
        "model.add(Conv2D(64, (3,3), activation = 'relu'))\n",
        "model.add(BatchNormalization())\n",
        "model.add(MaxPooling2D(pool_size = (2,2)))\n",
        "model.add(Dropout(0.2))\n",
        "\n",
        "# 3rd layer\n",
        "model.add(Conv2D(128, (3,3), activation = 'relu'))\n",
        "model.add(BatchNormalization())\n",
        "model.add(MaxPooling2D(pool_size = (2,2)))\n",
        "model.add(Dropout(0.2))\n",
        "\n",
        "\n",
        "# 4tg layer\n",
        "model.add(Conv2D(256, (3,3), activation = 'relu'))\n",
        "model.add(BatchNormalization())\n",
        "model.add(MaxPooling2D(pool_size = (2,2)))\n",
        "model.add(Dropout(0.2))\n",
        "\n",
        "# flattening\n",
        "model.add(Flatten())\n",
        "\n",
        "# fully connected\n",
        "model.add(Dense(256, activation = 'relu'))\n",
        "model.add(BatchNormalization())\n",
        "model.add(Dropout(0.2))\n",
        "\n",
        "# output layer\n",
        "model.add(Dense(1, activation = 'sigmoid'))"
      ]
    },
    {
      "cell_type": "markdown",
      "metadata": {
        "id": "caOYToRIrJvH"
      },
      "source": [
        "<div style=\"text-align: center;\">\n",
        "    <p style=\"background-color: #8aeb92; color: #910909; font-size: 2.0em; font-family: 'Arial', sans-serif; text-align: center; border-radius: 25px; border: 4px solid #910909; display: inline-block; padding: 20px 20px; margin: 0 auto; line-height: 1.5; font-weight: bold; box-shadow: 0px 4px 10px rgba(0, 0, 0, 0.3);\">\n",
        "        🌐 Model Summary\n",
        "    </p>\n",
        "</div>\n"
      ]
    },
    {
      "cell_type": "code",
      "execution_count": null,
      "metadata": {
        "colab": {
          "background_save": true
        },
        "id": "xC0kXsrAqrpE",
        "outputId": "1d7a0c8a-b9cd-487a-eeff-531ad87b19be"
      },
      "outputs": [
        {
          "data": {
            "text/html": [
              "<pre style=\"white-space:pre;overflow-x:auto;line-height:normal;font-family:Menlo,'DejaVu Sans Mono',consolas,'Courier New',monospace\"><span style=\"font-weight: bold\">Model: \"sequential\"</span>\n",
              "</pre>\n"
            ],
            "text/plain": [
              "\u001b[1mModel: \"sequential\"\u001b[0m\n"
            ]
          },
          "metadata": {},
          "output_type": "display_data"
        },
        {
          "data": {
            "text/html": [
              "<pre style=\"white-space:pre;overflow-x:auto;line-height:normal;font-family:Menlo,'DejaVu Sans Mono',consolas,'Courier New',monospace\">┏━━━━━━━━━━━━━━━━━━━━━━━━━━━━━━━━━━━━━━┳━━━━━━━━━━━━━━━━━━━━━━━━━━━━━┳━━━━━━━━━━━━━━━━━┓\n",
              "┃<span style=\"font-weight: bold\"> Layer (type)                         </span>┃<span style=\"font-weight: bold\"> Output Shape                </span>┃<span style=\"font-weight: bold\">         Param # </span>┃\n",
              "┡━━━━━━━━━━━━━━━━━━━━━━━━━━━━━━━━━━━━━━╇━━━━━━━━━━━━━━━━━━━━━━━━━━━━━╇━━━━━━━━━━━━━━━━━┩\n",
              "│ conv2d (<span style=\"color: #0087ff; text-decoration-color: #0087ff\">Conv2D</span>)                      │ (<span style=\"color: #00d7ff; text-decoration-color: #00d7ff\">None</span>, <span style=\"color: #00af00; text-decoration-color: #00af00\">222</span>, <span style=\"color: #00af00; text-decoration-color: #00af00\">222</span>, <span style=\"color: #00af00; text-decoration-color: #00af00\">32</span>)        │             <span style=\"color: #00af00; text-decoration-color: #00af00\">896</span> │\n",
              "├──────────────────────────────────────┼─────────────────────────────┼─────────────────┤\n",
              "│ batch_normalization                  │ (<span style=\"color: #00d7ff; text-decoration-color: #00d7ff\">None</span>, <span style=\"color: #00af00; text-decoration-color: #00af00\">222</span>, <span style=\"color: #00af00; text-decoration-color: #00af00\">222</span>, <span style=\"color: #00af00; text-decoration-color: #00af00\">32</span>)        │             <span style=\"color: #00af00; text-decoration-color: #00af00\">128</span> │\n",
              "│ (<span style=\"color: #0087ff; text-decoration-color: #0087ff\">BatchNormalization</span>)                 │                             │                 │\n",
              "├──────────────────────────────────────┼─────────────────────────────┼─────────────────┤\n",
              "│ max_pooling2d (<span style=\"color: #0087ff; text-decoration-color: #0087ff\">MaxPooling2D</span>)         │ (<span style=\"color: #00d7ff; text-decoration-color: #00d7ff\">None</span>, <span style=\"color: #00af00; text-decoration-color: #00af00\">111</span>, <span style=\"color: #00af00; text-decoration-color: #00af00\">111</span>, <span style=\"color: #00af00; text-decoration-color: #00af00\">32</span>)        │               <span style=\"color: #00af00; text-decoration-color: #00af00\">0</span> │\n",
              "├──────────────────────────────────────┼─────────────────────────────┼─────────────────┤\n",
              "│ dropout (<span style=\"color: #0087ff; text-decoration-color: #0087ff\">Dropout</span>)                    │ (<span style=\"color: #00d7ff; text-decoration-color: #00d7ff\">None</span>, <span style=\"color: #00af00; text-decoration-color: #00af00\">111</span>, <span style=\"color: #00af00; text-decoration-color: #00af00\">111</span>, <span style=\"color: #00af00; text-decoration-color: #00af00\">32</span>)        │               <span style=\"color: #00af00; text-decoration-color: #00af00\">0</span> │\n",
              "├──────────────────────────────────────┼─────────────────────────────┼─────────────────┤\n",
              "│ conv2d_1 (<span style=\"color: #0087ff; text-decoration-color: #0087ff\">Conv2D</span>)                    │ (<span style=\"color: #00d7ff; text-decoration-color: #00d7ff\">None</span>, <span style=\"color: #00af00; text-decoration-color: #00af00\">109</span>, <span style=\"color: #00af00; text-decoration-color: #00af00\">109</span>, <span style=\"color: #00af00; text-decoration-color: #00af00\">64</span>)        │          <span style=\"color: #00af00; text-decoration-color: #00af00\">18,496</span> │\n",
              "├──────────────────────────────────────┼─────────────────────────────┼─────────────────┤\n",
              "│ batch_normalization_1                │ (<span style=\"color: #00d7ff; text-decoration-color: #00d7ff\">None</span>, <span style=\"color: #00af00; text-decoration-color: #00af00\">109</span>, <span style=\"color: #00af00; text-decoration-color: #00af00\">109</span>, <span style=\"color: #00af00; text-decoration-color: #00af00\">64</span>)        │             <span style=\"color: #00af00; text-decoration-color: #00af00\">256</span> │\n",
              "│ (<span style=\"color: #0087ff; text-decoration-color: #0087ff\">BatchNormalization</span>)                 │                             │                 │\n",
              "├──────────────────────────────────────┼─────────────────────────────┼─────────────────┤\n",
              "│ max_pooling2d_1 (<span style=\"color: #0087ff; text-decoration-color: #0087ff\">MaxPooling2D</span>)       │ (<span style=\"color: #00d7ff; text-decoration-color: #00d7ff\">None</span>, <span style=\"color: #00af00; text-decoration-color: #00af00\">54</span>, <span style=\"color: #00af00; text-decoration-color: #00af00\">54</span>, <span style=\"color: #00af00; text-decoration-color: #00af00\">64</span>)          │               <span style=\"color: #00af00; text-decoration-color: #00af00\">0</span> │\n",
              "├──────────────────────────────────────┼─────────────────────────────┼─────────────────┤\n",
              "│ dropout_1 (<span style=\"color: #0087ff; text-decoration-color: #0087ff\">Dropout</span>)                  │ (<span style=\"color: #00d7ff; text-decoration-color: #00d7ff\">None</span>, <span style=\"color: #00af00; text-decoration-color: #00af00\">54</span>, <span style=\"color: #00af00; text-decoration-color: #00af00\">54</span>, <span style=\"color: #00af00; text-decoration-color: #00af00\">64</span>)          │               <span style=\"color: #00af00; text-decoration-color: #00af00\">0</span> │\n",
              "├──────────────────────────────────────┼─────────────────────────────┼─────────────────┤\n",
              "│ conv2d_2 (<span style=\"color: #0087ff; text-decoration-color: #0087ff\">Conv2D</span>)                    │ (<span style=\"color: #00d7ff; text-decoration-color: #00d7ff\">None</span>, <span style=\"color: #00af00; text-decoration-color: #00af00\">52</span>, <span style=\"color: #00af00; text-decoration-color: #00af00\">52</span>, <span style=\"color: #00af00; text-decoration-color: #00af00\">128</span>)         │          <span style=\"color: #00af00; text-decoration-color: #00af00\">73,856</span> │\n",
              "├──────────────────────────────────────┼─────────────────────────────┼─────────────────┤\n",
              "│ batch_normalization_2                │ (<span style=\"color: #00d7ff; text-decoration-color: #00d7ff\">None</span>, <span style=\"color: #00af00; text-decoration-color: #00af00\">52</span>, <span style=\"color: #00af00; text-decoration-color: #00af00\">52</span>, <span style=\"color: #00af00; text-decoration-color: #00af00\">128</span>)         │             <span style=\"color: #00af00; text-decoration-color: #00af00\">512</span> │\n",
              "│ (<span style=\"color: #0087ff; text-decoration-color: #0087ff\">BatchNormalization</span>)                 │                             │                 │\n",
              "├──────────────────────────────────────┼─────────────────────────────┼─────────────────┤\n",
              "│ max_pooling2d_2 (<span style=\"color: #0087ff; text-decoration-color: #0087ff\">MaxPooling2D</span>)       │ (<span style=\"color: #00d7ff; text-decoration-color: #00d7ff\">None</span>, <span style=\"color: #00af00; text-decoration-color: #00af00\">26</span>, <span style=\"color: #00af00; text-decoration-color: #00af00\">26</span>, <span style=\"color: #00af00; text-decoration-color: #00af00\">128</span>)         │               <span style=\"color: #00af00; text-decoration-color: #00af00\">0</span> │\n",
              "├──────────────────────────────────────┼─────────────────────────────┼─────────────────┤\n",
              "│ dropout_2 (<span style=\"color: #0087ff; text-decoration-color: #0087ff\">Dropout</span>)                  │ (<span style=\"color: #00d7ff; text-decoration-color: #00d7ff\">None</span>, <span style=\"color: #00af00; text-decoration-color: #00af00\">26</span>, <span style=\"color: #00af00; text-decoration-color: #00af00\">26</span>, <span style=\"color: #00af00; text-decoration-color: #00af00\">128</span>)         │               <span style=\"color: #00af00; text-decoration-color: #00af00\">0</span> │\n",
              "├──────────────────────────────────────┼─────────────────────────────┼─────────────────┤\n",
              "│ conv2d_3 (<span style=\"color: #0087ff; text-decoration-color: #0087ff\">Conv2D</span>)                    │ (<span style=\"color: #00d7ff; text-decoration-color: #00d7ff\">None</span>, <span style=\"color: #00af00; text-decoration-color: #00af00\">24</span>, <span style=\"color: #00af00; text-decoration-color: #00af00\">24</span>, <span style=\"color: #00af00; text-decoration-color: #00af00\">256</span>)         │         <span style=\"color: #00af00; text-decoration-color: #00af00\">295,168</span> │\n",
              "├──────────────────────────────────────┼─────────────────────────────┼─────────────────┤\n",
              "│ batch_normalization_3                │ (<span style=\"color: #00d7ff; text-decoration-color: #00d7ff\">None</span>, <span style=\"color: #00af00; text-decoration-color: #00af00\">24</span>, <span style=\"color: #00af00; text-decoration-color: #00af00\">24</span>, <span style=\"color: #00af00; text-decoration-color: #00af00\">256</span>)         │           <span style=\"color: #00af00; text-decoration-color: #00af00\">1,024</span> │\n",
              "│ (<span style=\"color: #0087ff; text-decoration-color: #0087ff\">BatchNormalization</span>)                 │                             │                 │\n",
              "├──────────────────────────────────────┼─────────────────────────────┼─────────────────┤\n",
              "│ max_pooling2d_3 (<span style=\"color: #0087ff; text-decoration-color: #0087ff\">MaxPooling2D</span>)       │ (<span style=\"color: #00d7ff; text-decoration-color: #00d7ff\">None</span>, <span style=\"color: #00af00; text-decoration-color: #00af00\">12</span>, <span style=\"color: #00af00; text-decoration-color: #00af00\">12</span>, <span style=\"color: #00af00; text-decoration-color: #00af00\">256</span>)         │               <span style=\"color: #00af00; text-decoration-color: #00af00\">0</span> │\n",
              "├──────────────────────────────────────┼─────────────────────────────┼─────────────────┤\n",
              "│ dropout_3 (<span style=\"color: #0087ff; text-decoration-color: #0087ff\">Dropout</span>)                  │ (<span style=\"color: #00d7ff; text-decoration-color: #00d7ff\">None</span>, <span style=\"color: #00af00; text-decoration-color: #00af00\">12</span>, <span style=\"color: #00af00; text-decoration-color: #00af00\">12</span>, <span style=\"color: #00af00; text-decoration-color: #00af00\">256</span>)         │               <span style=\"color: #00af00; text-decoration-color: #00af00\">0</span> │\n",
              "├──────────────────────────────────────┼─────────────────────────────┼─────────────────┤\n",
              "│ flatten (<span style=\"color: #0087ff; text-decoration-color: #0087ff\">Flatten</span>)                    │ (<span style=\"color: #00d7ff; text-decoration-color: #00d7ff\">None</span>, <span style=\"color: #00af00; text-decoration-color: #00af00\">36864</span>)               │               <span style=\"color: #00af00; text-decoration-color: #00af00\">0</span> │\n",
              "├──────────────────────────────────────┼─────────────────────────────┼─────────────────┤\n",
              "│ dense (<span style=\"color: #0087ff; text-decoration-color: #0087ff\">Dense</span>)                        │ (<span style=\"color: #00d7ff; text-decoration-color: #00d7ff\">None</span>, <span style=\"color: #00af00; text-decoration-color: #00af00\">256</span>)                 │       <span style=\"color: #00af00; text-decoration-color: #00af00\">9,437,440</span> │\n",
              "├──────────────────────────────────────┼─────────────────────────────┼─────────────────┤\n",
              "│ batch_normalization_4                │ (<span style=\"color: #00d7ff; text-decoration-color: #00d7ff\">None</span>, <span style=\"color: #00af00; text-decoration-color: #00af00\">256</span>)                 │           <span style=\"color: #00af00; text-decoration-color: #00af00\">1,024</span> │\n",
              "│ (<span style=\"color: #0087ff; text-decoration-color: #0087ff\">BatchNormalization</span>)                 │                             │                 │\n",
              "├──────────────────────────────────────┼─────────────────────────────┼─────────────────┤\n",
              "│ dropout_4 (<span style=\"color: #0087ff; text-decoration-color: #0087ff\">Dropout</span>)                  │ (<span style=\"color: #00d7ff; text-decoration-color: #00d7ff\">None</span>, <span style=\"color: #00af00; text-decoration-color: #00af00\">256</span>)                 │               <span style=\"color: #00af00; text-decoration-color: #00af00\">0</span> │\n",
              "├──────────────────────────────────────┼─────────────────────────────┼─────────────────┤\n",
              "│ dense_1 (<span style=\"color: #0087ff; text-decoration-color: #0087ff\">Dense</span>)                      │ (<span style=\"color: #00d7ff; text-decoration-color: #00d7ff\">None</span>, <span style=\"color: #00af00; text-decoration-color: #00af00\">1</span>)                   │             <span style=\"color: #00af00; text-decoration-color: #00af00\">257</span> │\n",
              "└──────────────────────────────────────┴─────────────────────────────┴─────────────────┘\n",
              "</pre>\n"
            ],
            "text/plain": [
              "┏━━━━━━━━━━━━━━━━━━━━━━━━━━━━━━━━━━━━━━┳━━━━━━━━━━━━━━━━━━━━━━━━━━━━━┳━━━━━━━━━━━━━━━━━┓\n",
              "┃\u001b[1m \u001b[0m\u001b[1mLayer (type)                        \u001b[0m\u001b[1m \u001b[0m┃\u001b[1m \u001b[0m\u001b[1mOutput Shape               \u001b[0m\u001b[1m \u001b[0m┃\u001b[1m \u001b[0m\u001b[1m        Param #\u001b[0m\u001b[1m \u001b[0m┃\n",
              "┡━━━━━━━━━━━━━━━━━━━━━━━━━━━━━━━━━━━━━━╇━━━━━━━━━━━━━━━━━━━━━━━━━━━━━╇━━━━━━━━━━━━━━━━━┩\n",
              "│ conv2d (\u001b[38;5;33mConv2D\u001b[0m)                      │ (\u001b[38;5;45mNone\u001b[0m, \u001b[38;5;34m222\u001b[0m, \u001b[38;5;34m222\u001b[0m, \u001b[38;5;34m32\u001b[0m)        │             \u001b[38;5;34m896\u001b[0m │\n",
              "├──────────────────────────────────────┼─────────────────────────────┼─────────────────┤\n",
              "│ batch_normalization                  │ (\u001b[38;5;45mNone\u001b[0m, \u001b[38;5;34m222\u001b[0m, \u001b[38;5;34m222\u001b[0m, \u001b[38;5;34m32\u001b[0m)        │             \u001b[38;5;34m128\u001b[0m │\n",
              "│ (\u001b[38;5;33mBatchNormalization\u001b[0m)                 │                             │                 │\n",
              "├──────────────────────────────────────┼─────────────────────────────┼─────────────────┤\n",
              "│ max_pooling2d (\u001b[38;5;33mMaxPooling2D\u001b[0m)         │ (\u001b[38;5;45mNone\u001b[0m, \u001b[38;5;34m111\u001b[0m, \u001b[38;5;34m111\u001b[0m, \u001b[38;5;34m32\u001b[0m)        │               \u001b[38;5;34m0\u001b[0m │\n",
              "├──────────────────────────────────────┼─────────────────────────────┼─────────────────┤\n",
              "│ dropout (\u001b[38;5;33mDropout\u001b[0m)                    │ (\u001b[38;5;45mNone\u001b[0m, \u001b[38;5;34m111\u001b[0m, \u001b[38;5;34m111\u001b[0m, \u001b[38;5;34m32\u001b[0m)        │               \u001b[38;5;34m0\u001b[0m │\n",
              "├──────────────────────────────────────┼─────────────────────────────┼─────────────────┤\n",
              "│ conv2d_1 (\u001b[38;5;33mConv2D\u001b[0m)                    │ (\u001b[38;5;45mNone\u001b[0m, \u001b[38;5;34m109\u001b[0m, \u001b[38;5;34m109\u001b[0m, \u001b[38;5;34m64\u001b[0m)        │          \u001b[38;5;34m18,496\u001b[0m │\n",
              "├──────────────────────────────────────┼─────────────────────────────┼─────────────────┤\n",
              "│ batch_normalization_1                │ (\u001b[38;5;45mNone\u001b[0m, \u001b[38;5;34m109\u001b[0m, \u001b[38;5;34m109\u001b[0m, \u001b[38;5;34m64\u001b[0m)        │             \u001b[38;5;34m256\u001b[0m │\n",
              "│ (\u001b[38;5;33mBatchNormalization\u001b[0m)                 │                             │                 │\n",
              "├──────────────────────────────────────┼─────────────────────────────┼─────────────────┤\n",
              "│ max_pooling2d_1 (\u001b[38;5;33mMaxPooling2D\u001b[0m)       │ (\u001b[38;5;45mNone\u001b[0m, \u001b[38;5;34m54\u001b[0m, \u001b[38;5;34m54\u001b[0m, \u001b[38;5;34m64\u001b[0m)          │               \u001b[38;5;34m0\u001b[0m │\n",
              "├──────────────────────────────────────┼─────────────────────────────┼─────────────────┤\n",
              "│ dropout_1 (\u001b[38;5;33mDropout\u001b[0m)                  │ (\u001b[38;5;45mNone\u001b[0m, \u001b[38;5;34m54\u001b[0m, \u001b[38;5;34m54\u001b[0m, \u001b[38;5;34m64\u001b[0m)          │               \u001b[38;5;34m0\u001b[0m │\n",
              "├──────────────────────────────────────┼─────────────────────────────┼─────────────────┤\n",
              "│ conv2d_2 (\u001b[38;5;33mConv2D\u001b[0m)                    │ (\u001b[38;5;45mNone\u001b[0m, \u001b[38;5;34m52\u001b[0m, \u001b[38;5;34m52\u001b[0m, \u001b[38;5;34m128\u001b[0m)         │          \u001b[38;5;34m73,856\u001b[0m │\n",
              "├──────────────────────────────────────┼─────────────────────────────┼─────────────────┤\n",
              "│ batch_normalization_2                │ (\u001b[38;5;45mNone\u001b[0m, \u001b[38;5;34m52\u001b[0m, \u001b[38;5;34m52\u001b[0m, \u001b[38;5;34m128\u001b[0m)         │             \u001b[38;5;34m512\u001b[0m │\n",
              "│ (\u001b[38;5;33mBatchNormalization\u001b[0m)                 │                             │                 │\n",
              "├──────────────────────────────────────┼─────────────────────────────┼─────────────────┤\n",
              "│ max_pooling2d_2 (\u001b[38;5;33mMaxPooling2D\u001b[0m)       │ (\u001b[38;5;45mNone\u001b[0m, \u001b[38;5;34m26\u001b[0m, \u001b[38;5;34m26\u001b[0m, \u001b[38;5;34m128\u001b[0m)         │               \u001b[38;5;34m0\u001b[0m │\n",
              "├──────────────────────────────────────┼─────────────────────────────┼─────────────────┤\n",
              "│ dropout_2 (\u001b[38;5;33mDropout\u001b[0m)                  │ (\u001b[38;5;45mNone\u001b[0m, \u001b[38;5;34m26\u001b[0m, \u001b[38;5;34m26\u001b[0m, \u001b[38;5;34m128\u001b[0m)         │               \u001b[38;5;34m0\u001b[0m │\n",
              "├──────────────────────────────────────┼─────────────────────────────┼─────────────────┤\n",
              "│ conv2d_3 (\u001b[38;5;33mConv2D\u001b[0m)                    │ (\u001b[38;5;45mNone\u001b[0m, \u001b[38;5;34m24\u001b[0m, \u001b[38;5;34m24\u001b[0m, \u001b[38;5;34m256\u001b[0m)         │         \u001b[38;5;34m295,168\u001b[0m │\n",
              "├──────────────────────────────────────┼─────────────────────────────┼─────────────────┤\n",
              "│ batch_normalization_3                │ (\u001b[38;5;45mNone\u001b[0m, \u001b[38;5;34m24\u001b[0m, \u001b[38;5;34m24\u001b[0m, \u001b[38;5;34m256\u001b[0m)         │           \u001b[38;5;34m1,024\u001b[0m │\n",
              "│ (\u001b[38;5;33mBatchNormalization\u001b[0m)                 │                             │                 │\n",
              "├──────────────────────────────────────┼─────────────────────────────┼─────────────────┤\n",
              "│ max_pooling2d_3 (\u001b[38;5;33mMaxPooling2D\u001b[0m)       │ (\u001b[38;5;45mNone\u001b[0m, \u001b[38;5;34m12\u001b[0m, \u001b[38;5;34m12\u001b[0m, \u001b[38;5;34m256\u001b[0m)         │               \u001b[38;5;34m0\u001b[0m │\n",
              "├──────────────────────────────────────┼─────────────────────────────┼─────────────────┤\n",
              "│ dropout_3 (\u001b[38;5;33mDropout\u001b[0m)                  │ (\u001b[38;5;45mNone\u001b[0m, \u001b[38;5;34m12\u001b[0m, \u001b[38;5;34m12\u001b[0m, \u001b[38;5;34m256\u001b[0m)         │               \u001b[38;5;34m0\u001b[0m │\n",
              "├──────────────────────────────────────┼─────────────────────────────┼─────────────────┤\n",
              "│ flatten (\u001b[38;5;33mFlatten\u001b[0m)                    │ (\u001b[38;5;45mNone\u001b[0m, \u001b[38;5;34m36864\u001b[0m)               │               \u001b[38;5;34m0\u001b[0m │\n",
              "├──────────────────────────────────────┼─────────────────────────────┼─────────────────┤\n",
              "│ dense (\u001b[38;5;33mDense\u001b[0m)                        │ (\u001b[38;5;45mNone\u001b[0m, \u001b[38;5;34m256\u001b[0m)                 │       \u001b[38;5;34m9,437,440\u001b[0m │\n",
              "├──────────────────────────────────────┼─────────────────────────────┼─────────────────┤\n",
              "│ batch_normalization_4                │ (\u001b[38;5;45mNone\u001b[0m, \u001b[38;5;34m256\u001b[0m)                 │           \u001b[38;5;34m1,024\u001b[0m │\n",
              "│ (\u001b[38;5;33mBatchNormalization\u001b[0m)                 │                             │                 │\n",
              "├──────────────────────────────────────┼─────────────────────────────┼─────────────────┤\n",
              "│ dropout_4 (\u001b[38;5;33mDropout\u001b[0m)                  │ (\u001b[38;5;45mNone\u001b[0m, \u001b[38;5;34m256\u001b[0m)                 │               \u001b[38;5;34m0\u001b[0m │\n",
              "├──────────────────────────────────────┼─────────────────────────────┼─────────────────┤\n",
              "│ dense_1 (\u001b[38;5;33mDense\u001b[0m)                      │ (\u001b[38;5;45mNone\u001b[0m, \u001b[38;5;34m1\u001b[0m)                   │             \u001b[38;5;34m257\u001b[0m │\n",
              "└──────────────────────────────────────┴─────────────────────────────┴─────────────────┘\n"
            ]
          },
          "metadata": {},
          "output_type": "display_data"
        },
        {
          "data": {
            "text/html": [
              "<pre style=\"white-space:pre;overflow-x:auto;line-height:normal;font-family:Menlo,'DejaVu Sans Mono',consolas,'Courier New',monospace\"><span style=\"font-weight: bold\"> Total params: </span><span style=\"color: #00af00; text-decoration-color: #00af00\">9,829,057</span> (37.49 MB)\n",
              "</pre>\n"
            ],
            "text/plain": [
              "\u001b[1m Total params: \u001b[0m\u001b[38;5;34m9,829,057\u001b[0m (37.49 MB)\n"
            ]
          },
          "metadata": {},
          "output_type": "display_data"
        },
        {
          "data": {
            "text/html": [
              "<pre style=\"white-space:pre;overflow-x:auto;line-height:normal;font-family:Menlo,'DejaVu Sans Mono',consolas,'Courier New',monospace\"><span style=\"font-weight: bold\"> Trainable params: </span><span style=\"color: #00af00; text-decoration-color: #00af00\">9,827,585</span> (37.49 MB)\n",
              "</pre>\n"
            ],
            "text/plain": [
              "\u001b[1m Trainable params: \u001b[0m\u001b[38;5;34m9,827,585\u001b[0m (37.49 MB)\n"
            ]
          },
          "metadata": {},
          "output_type": "display_data"
        },
        {
          "data": {
            "text/html": [
              "<pre style=\"white-space:pre;overflow-x:auto;line-height:normal;font-family:Menlo,'DejaVu Sans Mono',consolas,'Courier New',monospace\"><span style=\"font-weight: bold\"> Non-trainable params: </span><span style=\"color: #00af00; text-decoration-color: #00af00\">1,472</span> (5.75 KB)\n",
              "</pre>\n"
            ],
            "text/plain": [
              "\u001b[1m Non-trainable params: \u001b[0m\u001b[38;5;34m1,472\u001b[0m (5.75 KB)\n"
            ]
          },
          "metadata": {},
          "output_type": "display_data"
        }
      ],
      "source": [
        "model.summary()"
      ]
    },
    {
      "cell_type": "markdown",
      "metadata": {
        "id": "CrTwtDwdraRG"
      },
      "source": [
        "<div style=\"text-align: center;\">\n",
        "    <p style=\"background-color: #8aeb92; color: #910909; font-size: 2.0em; font-family: 'Arial', sans-serif; text-align: center; border-radius: 25px; border: 4px solid #910909; display: inline-block; padding: 20px 20px; margin: 0 auto; line-height: 1.5; font-weight: bold; box-shadow: 0px 4px 10px rgba(0, 0, 0, 0.3);\">\n",
        "        ⚙️ Compiling Model\n",
        "    </p>\n",
        "</div>\n"
      ]
    },
    {
      "cell_type": "code",
      "execution_count": null,
      "metadata": {
        "colab": {
          "background_save": true
        },
        "id": "aOsc5pK2qtrg"
      },
      "outputs": [],
      "source": [
        "opt = tf.keras.optimizers.RMSprop(learning_rate=0.001)\n",
        "model.compile(optimizer=opt, loss='binary_crossentropy', metrics=['accuracy'])"
      ]
    },
    {
      "cell_type": "markdown",
      "metadata": {
        "id": "GzJjbo-Erc2P"
      },
      "source": [
        "<div style=\"text-align: center;\">\n",
        "    <p style=\"background-color: #8aeb92; color: #910909; font-size: 2.0em; font-family: 'Arial', sans-serif; text-align: center; border-radius: 25px; border: 4px solid #910909; display: inline-block; padding: 20px 20px; margin: 0 auto; line-height: 1.5; font-weight: bold; box-shadow: 0px 4px 10px rgba(0, 0, 0, 0.3);\">\n",
        "        ⚙️ Training the Model\n",
        "    </p>\n",
        "</div>\n"
      ]
    },
    {
      "cell_type": "code",
      "execution_count": null,
      "metadata": {
        "id": "PXhSBscprZic"
      },
      "outputs": [],
      "source": [
        "history = model.fit(train_generator, epochs=10, validation_data=val_generator)"
      ]
    },
    {
      "cell_type": "markdown",
      "metadata": {
        "id": "SYxm2Gr7ciGZ"
      },
      "source": [
        "<div style=\"text-align: center;\">\n",
        "    <p style=\"background-color: #8aeb92; color: #910909; font-size: 2.0em; font-family: 'Arial', sans-serif; text-align: center; border-radius: 25px; border: 4px solid #910909; display: inline-block; padding: 20px 20px; margin: 0 auto; line-height: 1.5; font-weight: bold; box-shadow: 0px 4px 10px rgba(0, 0, 0, 0.3);\">\n",
        "        📊 Evaluating Model Performance (Loss and Accuracy)\n",
        "    </p>\n",
        "</div>\n"
      ]
    },
    {
      "cell_type": "code",
      "execution_count": null,
      "metadata": {
        "id": "NZUdP3hCrmcc"
      },
      "outputs": [],
      "source": [
        "result = pd.DataFrame(history.history)\n",
        "result.tail()"
      ]
    },
    {
      "cell_type": "code",
      "execution_count": null,
      "metadata": {
        "id": "M3KOMLvZpw2n"
      },
      "outputs": [],
      "source": [
        "plt.style.use('ggplot')\n",
        "plt.figure(figsize=(10,5))\n",
        "result[['loss', 'val_loss']].plot()\n",
        "plt.xlabel('Epochs')\n",
        "plt.ylabel('Loss')\n",
        "plt.title('Loss Over Epochs')\n",
        "plt.show()"
      ]
    },
    {
      "cell_type": "code",
      "execution_count": null,
      "metadata": {
        "id": "PMzIdgIzp80e"
      },
      "outputs": [],
      "source": [
        "plt.style.use('ggplot')\n",
        "plt.figure(figsize=(10,5))\n",
        "result[['accuracy', 'val_accuracy']].plot()\n",
        "plt.xlabel('Epochs')\n",
        "plt.ylabel('Accuracy')\n",
        "plt.title('Accuracy Over Epochs')\n",
        "plt.show()"
      ]
    },
    {
      "cell_type": "markdown",
      "metadata": {
        "id": "azKVsxqssRDO"
      },
      "source": [
        "<div style=\"text-align: center;\">\n",
        "    <p style=\"background-color: #8aeb92; color: #910909; font-size: 2.0em; font-family: 'Arial', sans-serif; text-align: center; border-radius: 25px; border: 4px solid #910909; display: inline-block; padding: 20px 20px; margin: 0 auto; line-height: 1.5; font-weight: bold; box-shadow: 0px 4px 10px rgba(0, 0, 0, 0.3);\">\n",
        "        📊 Evaluating Model Performance on Test Data\n",
        "    </p>\n",
        "</div>\n"
      ]
    },
    {
      "cell_type": "code",
      "execution_count": null,
      "metadata": {
        "id": "YoWMw1QurrfD"
      },
      "outputs": [],
      "source": [
        "evaluation = model.evaluate(test_generator)\n",
        "print(f'Test Accuracy: {evaluation[1] * 100:.2f}%')"
      ]
    },
    {
      "cell_type": "markdown",
      "metadata": {
        "id": "HYzG28rXOMBh"
      },
      "source": [
        "<div style=\"text-align: center;\">\n",
        "    <p style=\"background-color: #8aeb92; color: #910909; font-size: 2.0em; font-family: 'Arial', sans-serif; text-align: center; border-radius: 25px; border: 4px solid #910909; display: inline-block; padding: 20px 20px; margin: 0 auto; line-height: 1.5; font-weight: bold; box-shadow: 0px 4px 10px rgba(0, 0, 0, 0.3);\">\n",
        "        🏗️ Building a Transfer Learning Model\n",
        "    </p>\n",
        "    <p style=\"font-size: 1.0em; font-family: 'Arial', sans-serif; text-align: justify; line-height: 1.5; padding: 10px;\">\n",
        "        Here, we define a function to create a transfer learning model using TensorFlow Hub. This function, <code>create_model</code>, accepts a URL for a pre-trained model and the number of output classes. It builds a model with two main components: a pre-trained feature extraction layer that captures high-level patterns from the input images, and a dense output layer for binary classification. By freezing the feature extraction layer, we focus on training only the output layer, which helps speed up the training process and reduce the risk of overfitting. This approach efficiently adapts a powerful pre-trained model for our specific classification task.\n",
        "    </p>\n",
        "</div>\n"
      ]
    },
    {
      "cell_type": "code",
      "execution_count": null,
      "metadata": {
        "id": "UkP49xDINnoh"
      },
      "outputs": [],
      "source": [
        "resnet_url = \"https://www.kaggle.com/models/tensorflow/resnet-50/TensorFlow2/classification/1\"\n",
        "efficientnet_url = \"https://www.kaggle.com/models/google/efficientnet-v2/TensorFlow2/imagenet1k-b0-classification/2\"\n",
        "mobilenet_url = \"https://kaggle.com/models/google/mobilenet-v2/TensorFlow2/100-224-feature-vector/1\""
      ]
    },
    {
      "cell_type": "code",
      "execution_count": null,
      "metadata": {
        "id": "DOOpWNDSOeHB"
      },
      "outputs": [],
      "source": [
        "IMAGE_SHAPE = (224,224)\n",
        "def create_model(model_url, num_classes):\n",
        "\n",
        "  feature_extractor_layer = hub.KerasLayer(model_url,\n",
        "                                           trainable=False,\n",
        "                                           name='feature_extraction_layer',\n",
        "                                           input_shape=IMAGE_SHAPE+(3,))\n",
        "\n",
        "\n",
        "  model = keras.Sequential([\n",
        "    feature_extractor_layer,\n",
        "    keras.layers.Dense(num_classes, activation='sigmoid', name='output_layer')\n",
        "\n",
        "  ])\n",
        "  return model"
      ]
    },
    {
      "cell_type": "markdown",
      "metadata": {
        "id": "f_die_5lEBTe"
      },
      "source": [
        "<div style=\"text-align: center;\">\n",
        "    <p style=\"background-color: #8aeb92; color: #910909; font-size: 2.0em; font-family: 'Arial', sans-serif; text-align: center; border-radius: 25px; border: 4px solid #910909; display: inline-block; padding: 20px 20px; margin: 0 auto; line-height: 1.5; font-weight: bold; box-shadow: 0px 4px 10px rgba(0, 0, 0, 0.3);\">\n",
        "        ⚙️ Transfer Learning with ResNet Model\n",
        "    </p>\n",
        "</div>\n"
      ]
    },
    {
      "cell_type": "code",
      "execution_count": null,
      "metadata": {
        "id": "ACdxFtNRsOXD"
      },
      "outputs": [],
      "source": [
        "resnet_model = create_model(resnet_url, num_classes=1)\n",
        "\n",
        "resnet_model.compile(loss='binary_crossentropy',\n",
        "                     optimizer=keras.optimizers.Adam(),\n",
        "                     metrics=['accuracy'])\n",
        "\n",
        "resnet_history = resnet_model.fit(train_generator,\n",
        "                                  validation_data=val_generator,\n",
        "                                  epochs=5,\n",
        "                                  steps_per_epoch=len(train_generator),\n",
        "                                  validation_steps=len(val_generator)\n",
        "                                  )"
      ]
    },
    {
      "cell_type": "code",
      "execution_count": null,
      "metadata": {
        "id": "V4DQaBOpDyja"
      },
      "outputs": [],
      "source": []
    }
  ],
  "metadata": {
    "accelerator": "GPU",
    "colab": {
      "gpuType": "T4",
      "provenance": []
    },
    "kernelspec": {
      "display_name": "Python 3",
      "name": "python3"
    },
    "language_info": {
      "name": "python"
    }
  },
  "nbformat": 4,
  "nbformat_minor": 0
}
