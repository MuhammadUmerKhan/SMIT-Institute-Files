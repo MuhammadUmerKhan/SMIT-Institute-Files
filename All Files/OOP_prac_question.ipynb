{
 "cells": [
  {
   "cell_type": "code",
   "execution_count": 2,
   "metadata": {},
   "outputs": [],
   "source": [
    "class Book():\n",
    "    def __init__(self, title, author, price):\n",
    "        self.title = title\n",
    "        self.author = author\n",
    "        self.price = price\n",
    "    def get_book_info(self):\n",
    "        print(f\"The title of book is {self.title}, its author is {self.title} and it's price is {self.price}\")"
   ]
  },
  {
   "cell_type": "code",
   "execution_count": 4,
   "metadata": {},
   "outputs": [],
   "source": [
    "my_book = Book(\"The Hitchhiker's Guide to the Galaxy\", \"Douglas Adams\", 12.99)"
   ]
  },
  {
   "cell_type": "code",
   "execution_count": 5,
   "metadata": {},
   "outputs": [
    {
     "name": "stdout",
     "output_type": "stream",
     "text": [
      "The title of book is The Hitchhiker's Guide to the Galaxy, its author is The Hitchhiker's Guide to the Galaxy and it's price is 12.99\n"
     ]
    }
   ],
   "source": [
    "my_book.get_book_info()"
   ]
  },
  {
   "cell_type": "markdown",
   "metadata": {},
   "source": [
    "Create a Bank class: <br>\n",
    "Attributes: name (str), accounts (list of dictionaries) where each dictionary represents an account with keys 'account_number', 'balance', and 'owner'\n",
    "Methods: create_account(owner_name, initial_deposit) (creates a new account and adds it to the accounts list), deposit(account_number, amount) (adds amount to the specified account's balance), withdraw(account_number, amount) (deducts amount from the specified account's balance, checking for sufficient funds)"
   ]
  },
  {
   "cell_type": "code",
   "execution_count": 16,
   "metadata": {},
   "outputs": [],
   "source": [
    "class Bank():\n",
    "    def __init__(self, name):\n",
    "        self.name = name\n",
    "        self.accounts = []\n",
    "    def create_account(self, owner_name, initial_deposit):\n",
    "        account_number = len(self.accounts) + 1\n",
    "        self.accounts.append({'account_number': account_number,'owner_name':owner_name, 'initial_deposit': initial_deposit})\n",
    "    def deposite(self, account_number, amount):\n",
    "        for account in self.accounts:\n",
    "            if account['account_number'] == account_number:\n",
    "                account['initial_deposit'] += amount\n",
    "                return\n",
    "            print(\"Account not found\")\n",
    "    def withdraw(self, account_number, amount):\n",
    "        for account in self.accounts:\n",
    "            if account['account_number'] == account_number:\n",
    "                if account['initial_deposit'] >= amount:\n",
    "                    account['initial_deposit'] -= amount\n",
    "                    return\n",
    "                else:\n",
    "                    print(\"Insufficient  Funds\")\n",
    "                return\n",
    "            else:\n",
    "                print(\"Account not found\")\n",
    "                \n",
    "        "
   ]
  },
  {
   "cell_type": "code",
   "execution_count": 17,
   "metadata": {},
   "outputs": [],
   "source": [
    "my_bank = Bank(\"First National Bank\")"
   ]
  },
  {
   "cell_type": "code",
   "execution_count": 18,
   "metadata": {},
   "outputs": [],
   "source": [
    "my_bank.create_account('Umer', 200000000000)"
   ]
  },
  {
   "cell_type": "code",
   "execution_count": 19,
   "metadata": {},
   "outputs": [],
   "source": [
    "my_bank.deposite(1, 2090)"
   ]
  },
  {
   "cell_type": "code",
   "execution_count": 21,
   "metadata": {},
   "outputs": [],
   "source": [
    "my_bank.withdraw(1, 8989)"
   ]
  },
  {
   "cell_type": "code",
   "execution_count": null,
   "metadata": {},
   "outputs": [],
   "source": []
  }
 ],
 "metadata": {
  "kernelspec": {
   "display_name": "Python 3",
   "language": "python",
   "name": "python3"
  },
  "language_info": {
   "codemirror_mode": {
    "name": "ipython",
    "version": 3
   },
   "file_extension": ".py",
   "mimetype": "text/x-python",
   "name": "python",
   "nbconvert_exporter": "python",
   "pygments_lexer": "ipython3",
   "version": "3.12.3"
  }
 },
 "nbformat": 4,
 "nbformat_minor": 2
}
