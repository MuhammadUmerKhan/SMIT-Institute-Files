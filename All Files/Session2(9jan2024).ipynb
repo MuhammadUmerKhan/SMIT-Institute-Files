{
 "cells": [
  {
   "cell_type": "markdown",
   "id": "60521e21",
   "metadata": {},
   "source": [
    "# Python Collections\n",
    " \n",
    "# Python Data Structures\n",
    "  - String \n",
    "  - List \n",
    "  - Tuple\n",
    "  - Dictionary\n",
    "  - set"
   ]
  },
  {
   "cell_type": "markdown",
   "id": "b653a6a3",
   "metadata": {},
   "source": [
    "# List"
   ]
  },
  {
   "cell_type": "markdown",
   "id": "ebff5b8c",
   "metadata": {},
   "source": [
    "#### Represented by square brackets  []"
   ]
  },
  {
   "cell_type": "code",
   "execution_count": 4,
   "id": "eb44f4a9",
   "metadata": {},
   "outputs": [],
   "source": [
    "courses  = ['Python', 'Web', 'Flutter','GD','Cyber','3DAnimation']"
   ]
  },
  {
   "cell_type": "code",
   "execution_count": 5,
   "id": "42ec5b72",
   "metadata": {},
   "outputs": [
    {
     "data": {
      "text/plain": [
       "list"
      ]
     },
     "execution_count": 5,
     "metadata": {},
     "output_type": "execute_result"
    }
   ],
   "source": [
    "type(courses)"
   ]
  },
  {
   "cell_type": "code",
   "execution_count": 6,
   "id": "b50e8402",
   "metadata": {},
   "outputs": [
    {
     "data": {
      "text/plain": [
       "6"
      ]
     },
     "execution_count": 6,
     "metadata": {},
     "output_type": "execute_result"
    }
   ],
   "source": [
    "len(courses)"
   ]
  },
  {
   "cell_type": "markdown",
   "id": "64d5b61e",
   "metadata": {},
   "source": [
    "# Retrieval of items from a list\n",
    "     - by using indices (index>>>>>>>>>>>>>positions)\n",
    "     - by value"
   ]
  },
  {
   "cell_type": "code",
   "execution_count": 7,
   "id": "0325cebb",
   "metadata": {},
   "outputs": [],
   "source": [
    "#-ve index    -6        -5     -4       -3     -2      -1\n",
    "courses  = ['Python', 'Web', 'Flutter','GD','Cyber','3DAnimation']\n",
    "# + index       0         1        2       3    4         5"
   ]
  },
  {
   "cell_type": "code",
   "execution_count": 8,
   "id": "502f0975",
   "metadata": {},
   "outputs": [
    {
     "data": {
      "text/plain": [
       "'Web'"
      ]
     },
     "execution_count": 8,
     "metadata": {},
     "output_type": "execute_result"
    }
   ],
   "source": [
    "courses[1]"
   ]
  },
  {
   "cell_type": "code",
   "execution_count": 9,
   "id": "500b645f",
   "metadata": {},
   "outputs": [
    {
     "data": {
      "text/plain": [
       "'Cyber'"
      ]
     },
     "execution_count": 9,
     "metadata": {},
     "output_type": "execute_result"
    }
   ],
   "source": [
    "courses[-2]"
   ]
  },
  {
   "cell_type": "code",
   "execution_count": 10,
   "id": "f5e221c8",
   "metadata": {},
   "outputs": [
    {
     "data": {
      "text/plain": [
       "'Python'"
      ]
     },
     "execution_count": 10,
     "metadata": {},
     "output_type": "execute_result"
    }
   ],
   "source": [
    "courses[0]"
   ]
  },
  {
   "cell_type": "code",
   "execution_count": 11,
   "id": "ca6c1a08",
   "metadata": {},
   "outputs": [
    {
     "ename": "IndexError",
     "evalue": "list index out of range",
     "output_type": "error",
     "traceback": [
      "\u001b[1;31m---------------------------------------------------------------------------\u001b[0m",
      "\u001b[1;31mIndexError\u001b[0m                                Traceback (most recent call last)",
      "Cell \u001b[1;32mIn[11], line 1\u001b[0m\n\u001b[1;32m----> 1\u001b[0m courses[\u001b[38;5;241m8\u001b[39m]\n",
      "\u001b[1;31mIndexError\u001b[0m: list index out of range"
     ]
    }
   ],
   "source": [
    "courses[8]"
   ]
  },
  {
   "cell_type": "markdown",
   "id": "8b81efc3",
   "metadata": {},
   "source": [
    "# Adding members to an existing list\n",
    " - append()\n",
    " - insert()\n",
    " - extend()\n",
    " -  \"+\""
   ]
  },
  {
   "cell_type": "code",
   "execution_count": 13,
   "id": "83e20687",
   "metadata": {},
   "outputs": [
    {
     "data": {
      "text/plain": [
       "['Python', 'Web', 'Flutter', 'GD', 'Cyber', '3DAnimation']"
      ]
     },
     "execution_count": 13,
     "metadata": {},
     "output_type": "execute_result"
    }
   ],
   "source": [
    "courses"
   ]
  },
  {
   "cell_type": "code",
   "execution_count": 14,
   "id": "7c4d9852",
   "metadata": {},
   "outputs": [],
   "source": [
    "# append() adds a member only at the end of the list\n",
    "courses.append('Mobile Repairing')"
   ]
  },
  {
   "cell_type": "code",
   "execution_count": 15,
   "id": "6d03ced6",
   "metadata": {},
   "outputs": [
    {
     "data": {
      "text/plain": [
       "['Python', 'Web', 'Flutter', 'GD', 'Cyber', '3DAnimation', 'Mobile Repairing']"
      ]
     },
     "execution_count": 15,
     "metadata": {},
     "output_type": "execute_result"
    }
   ],
   "source": [
    "courses"
   ]
  },
  {
   "cell_type": "code",
   "execution_count": 16,
   "id": "1a6ca888",
   "metadata": {},
   "outputs": [],
   "source": [
    "courses.insert(5, 'Java')"
   ]
  },
  {
   "cell_type": "code",
   "execution_count": 17,
   "id": "1989481f",
   "metadata": {},
   "outputs": [
    {
     "data": {
      "text/plain": [
       "['Python',\n",
       " 'Web',\n",
       " 'Flutter',\n",
       " 'GD',\n",
       " 'Cyber',\n",
       " 'Java',\n",
       " '3DAnimation',\n",
       " 'Mobile Repairing']"
      ]
     },
     "execution_count": 17,
     "metadata": {},
     "output_type": "execute_result"
    }
   ],
   "source": [
    "courses"
   ]
  },
  {
   "cell_type": "code",
   "execution_count": 18,
   "id": "38767a7a",
   "metadata": {},
   "outputs": [],
   "source": [
    "newcourses = ['BI', 'Hacking', 'DevOps','CloudComputing']"
   ]
  },
  {
   "cell_type": "code",
   "execution_count": 19,
   "id": "e8bb8ae7",
   "metadata": {},
   "outputs": [],
   "source": [
    "courses  = ['Python', 'Web', 'Flutter','GD','Cyber','3DAnimation']"
   ]
  },
  {
   "cell_type": "code",
   "execution_count": 20,
   "id": "27377e2c",
   "metadata": {},
   "outputs": [],
   "source": [
    "courses.append(newcourses)"
   ]
  },
  {
   "cell_type": "code",
   "execution_count": 21,
   "id": "0c3d8a8d",
   "metadata": {},
   "outputs": [
    {
     "data": {
      "text/plain": [
       "['Python',\n",
       " 'Web',\n",
       " 'Flutter',\n",
       " 'GD',\n",
       " 'Cyber',\n",
       " '3DAnimation',\n",
       " ['BI', 'Hacking', 'DevOps', 'CloudComputing']]"
      ]
     },
     "execution_count": 21,
     "metadata": {},
     "output_type": "execute_result"
    }
   ],
   "source": [
    "courses"
   ]
  },
  {
   "cell_type": "code",
   "execution_count": 22,
   "id": "1a6ac6e8",
   "metadata": {},
   "outputs": [],
   "source": [
    "courses.insert(0,newcourses)"
   ]
  },
  {
   "cell_type": "code",
   "execution_count": 23,
   "id": "b7ff3fba",
   "metadata": {},
   "outputs": [
    {
     "data": {
      "text/plain": [
       "[['BI', 'Hacking', 'DevOps', 'CloudComputing'],\n",
       " 'Python',\n",
       " 'Web',\n",
       " 'Flutter',\n",
       " 'GD',\n",
       " 'Cyber',\n",
       " '3DAnimation',\n",
       " ['BI', 'Hacking', 'DevOps', 'CloudComputing']]"
      ]
     },
     "execution_count": 23,
     "metadata": {},
     "output_type": "execute_result"
    }
   ],
   "source": [
    "courses"
   ]
  },
  {
   "cell_type": "code",
   "execution_count": 24,
   "id": "b0fb7347",
   "metadata": {},
   "outputs": [],
   "source": [
    "courses  = ['Python', 'Web', 'Flutter','GD','Cyber','3DAnimation']"
   ]
  },
  {
   "cell_type": "code",
   "execution_count": 25,
   "id": "e343b5b8",
   "metadata": {},
   "outputs": [
    {
     "data": {
      "text/plain": [
       "['BI', 'Hacking', 'DevOps', 'CloudComputing']"
      ]
     },
     "execution_count": 25,
     "metadata": {},
     "output_type": "execute_result"
    }
   ],
   "source": [
    "newcourses"
   ]
  },
  {
   "cell_type": "code",
   "execution_count": 26,
   "id": "d68c3f01",
   "metadata": {},
   "outputs": [],
   "source": [
    "courses.extend(newcourses)"
   ]
  },
  {
   "cell_type": "code",
   "execution_count": 27,
   "id": "6adee55e",
   "metadata": {},
   "outputs": [
    {
     "data": {
      "text/plain": [
       "['Python',\n",
       " 'Web',\n",
       " 'Flutter',\n",
       " 'GD',\n",
       " 'Cyber',\n",
       " '3DAnimation',\n",
       " 'BI',\n",
       " 'Hacking',\n",
       " 'DevOps',\n",
       " 'CloudComputing']"
      ]
     },
     "execution_count": 27,
     "metadata": {},
     "output_type": "execute_result"
    }
   ],
   "source": [
    "courses"
   ]
  },
  {
   "cell_type": "code",
   "execution_count": 28,
   "id": "bcb95b89",
   "metadata": {},
   "outputs": [
    {
     "data": {
      "text/plain": [
       "['Python',\n",
       " 'Web',\n",
       " 'Flutter',\n",
       " 'GD',\n",
       " 'Cyber',\n",
       " '3DAnimation',\n",
       " 'BI',\n",
       " 'Hacking',\n",
       " 'DevOps',\n",
       " 'CloudComputing',\n",
       " 'BI',\n",
       " 'Hacking',\n",
       " 'DevOps',\n",
       " 'CloudComputing']"
      ]
     },
     "execution_count": 28,
     "metadata": {},
     "output_type": "execute_result"
    }
   ],
   "source": [
    "courses+newcourses"
   ]
  },
  {
   "cell_type": "code",
   "execution_count": 29,
   "id": "2fccf988",
   "metadata": {},
   "outputs": [],
   "source": [
    "courses.extend(['gardening', 'tailoring', 'motormechanic', 'solarinstallation'])"
   ]
  },
  {
   "cell_type": "code",
   "execution_count": 30,
   "id": "34186e24",
   "metadata": {},
   "outputs": [
    {
     "data": {
      "text/plain": [
       "['Python',\n",
       " 'Web',\n",
       " 'Flutter',\n",
       " 'GD',\n",
       " 'Cyber',\n",
       " '3DAnimation',\n",
       " 'BI',\n",
       " 'Hacking',\n",
       " 'DevOps',\n",
       " 'CloudComputing',\n",
       " 'gardening',\n",
       " 'tailoring',\n",
       " 'motormechanic',\n",
       " 'solarinstallation']"
      ]
     },
     "execution_count": 30,
     "metadata": {},
     "output_type": "execute_result"
    }
   ],
   "source": [
    "courses"
   ]
  },
  {
   "cell_type": "markdown",
   "id": "c5aa8c13",
   "metadata": {},
   "source": [
    "# Removing /Deleting elements from existing list\n",
    "\n",
    " -  del \n",
    " -  remove\n",
    " -  pop \n",
    "-   clear()"
   ]
  },
  {
   "cell_type": "code",
   "execution_count": 43,
   "id": "f14687a2",
   "metadata": {},
   "outputs": [
    {
     "data": {
      "text/plain": [
       "['Python',\n",
       " 'Web',\n",
       " 'Flutter',\n",
       " 'GD',\n",
       " 'Cyber',\n",
       " '3DAnimation',\n",
       " 'BI',\n",
       " 'Hacking',\n",
       " 'DevOps',\n",
       " 'CloudComputing',\n",
       " 'gardening',\n",
       " 'tailoring',\n",
       " 'motormechanic',\n",
       " 'solarinstallation']"
      ]
     },
     "execution_count": 43,
     "metadata": {},
     "output_type": "execute_result"
    }
   ],
   "source": [
    "courses"
   ]
  },
  {
   "cell_type": "code",
   "execution_count": 44,
   "id": "00ee0a3e",
   "metadata": {},
   "outputs": [],
   "source": [
    "# del deletes a member vis index \n",
    "del courses[8]\n",
    "\n",
    "# deletes inplace/ in memory bcz list is mutable "
   ]
  },
  {
   "cell_type": "code",
   "execution_count": 45,
   "id": "8b7dd148",
   "metadata": {},
   "outputs": [],
   "source": [
    "name = 'nasir'"
   ]
  },
  {
   "cell_type": "code",
   "execution_count": 48,
   "id": "cfa6164f",
   "metadata": {},
   "outputs": [
    {
     "data": {
      "text/plain": [
       "'NASIR'"
      ]
     },
     "execution_count": 48,
     "metadata": {},
     "output_type": "execute_result"
    }
   ],
   "source": [
    "name.upper()\n",
    "# converts to upper not in memory/not inplace bcz string is immutable"
   ]
  },
  {
   "cell_type": "code",
   "execution_count": 49,
   "id": "1f2ee63a",
   "metadata": {},
   "outputs": [
    {
     "data": {
      "text/plain": [
       "['Python',\n",
       " 'Web',\n",
       " 'Flutter',\n",
       " 'GD',\n",
       " 'Cyber',\n",
       " '3DAnimation',\n",
       " 'BI',\n",
       " 'Hacking',\n",
       " 'CloudComputing',\n",
       " 'gardening',\n",
       " 'tailoring',\n",
       " 'motormechanic',\n",
       " 'solarinstallation']"
      ]
     },
     "execution_count": 49,
     "metadata": {},
     "output_type": "execute_result"
    }
   ],
   "source": [
    "courses"
   ]
  },
  {
   "cell_type": "code",
   "execution_count": 51,
   "id": "12e8629f",
   "metadata": {},
   "outputs": [],
   "source": [
    "# remove delete a member permanently by value itself not by index\n",
    "courses.remove('gardening')"
   ]
  },
  {
   "cell_type": "code",
   "execution_count": 52,
   "id": "5d87b6af",
   "metadata": {},
   "outputs": [
    {
     "data": {
      "text/plain": [
       "['Python',\n",
       " 'Web',\n",
       " 'Flutter',\n",
       " 'GD',\n",
       " 'Cyber',\n",
       " '3DAnimation',\n",
       " 'BI',\n",
       " 'Hacking',\n",
       " 'CloudComputing',\n",
       " 'tailoring',\n",
       " 'motormechanic',\n",
       " 'solarinstallation']"
      ]
     },
     "execution_count": 52,
     "metadata": {},
     "output_type": "execute_result"
    }
   ],
   "source": [
    "courses"
   ]
  },
  {
   "cell_type": "code",
   "execution_count": 53,
   "id": "298fe7f5",
   "metadata": {},
   "outputs": [
    {
     "ename": "ValueError",
     "evalue": "list.remove(x): x not in list",
     "output_type": "error",
     "traceback": [
      "\u001b[1;31m---------------------------------------------------------------------------\u001b[0m",
      "\u001b[1;31mValueError\u001b[0m                                Traceback (most recent call last)",
      "Cell \u001b[1;32mIn[53], line 1\u001b[0m\n\u001b[1;32m----> 1\u001b[0m courses\u001b[38;5;241m.\u001b[39mremove(\u001b[38;5;124m'\u001b[39m\u001b[38;5;124mgardening\u001b[39m\u001b[38;5;124m'\u001b[39m)\n",
      "\u001b[1;31mValueError\u001b[0m: list.remove(x): x not in list"
     ]
    }
   ],
   "source": [
    "courses.remove('gardening')"
   ]
  },
  {
   "cell_type": "code",
   "execution_count": 54,
   "id": "2c1a7a58",
   "metadata": {},
   "outputs": [
    {
     "data": {
      "text/plain": [
       "'solarinstallation'"
      ]
     },
     "execution_count": 54,
     "metadata": {},
     "output_type": "execute_result"
    }
   ],
   "source": [
    "# pop removes the value permanently by default from last \n",
    "# it throws back (returns) the popped values\n",
    "courses.pop()"
   ]
  },
  {
   "cell_type": "code",
   "execution_count": 55,
   "id": "31cd92f4",
   "metadata": {},
   "outputs": [
    {
     "data": {
      "text/plain": [
       "['Python',\n",
       " 'Web',\n",
       " 'Flutter',\n",
       " 'GD',\n",
       " 'Cyber',\n",
       " '3DAnimation',\n",
       " 'BI',\n",
       " 'Hacking',\n",
       " 'CloudComputing',\n",
       " 'tailoring',\n",
       " 'motormechanic']"
      ]
     },
     "execution_count": 55,
     "metadata": {},
     "output_type": "execute_result"
    }
   ],
   "source": [
    "courses"
   ]
  },
  {
   "cell_type": "code",
   "execution_count": 56,
   "id": "30abb76f",
   "metadata": {},
   "outputs": [],
   "source": [
    "popped_value = courses.pop()"
   ]
  },
  {
   "cell_type": "code",
   "execution_count": 57,
   "id": "efa92acf",
   "metadata": {},
   "outputs": [
    {
     "data": {
      "text/plain": [
       "'motormechanic'"
      ]
     },
     "execution_count": 57,
     "metadata": {},
     "output_type": "execute_result"
    }
   ],
   "source": [
    "popped_value"
   ]
  },
  {
   "cell_type": "code",
   "execution_count": 58,
   "id": "9146723b",
   "metadata": {},
   "outputs": [],
   "source": [
    "# pop also can take index to pop value\n",
    "poped_by_index = courses.pop(5)"
   ]
  },
  {
   "cell_type": "code",
   "execution_count": 59,
   "id": "e6545a1e",
   "metadata": {},
   "outputs": [
    {
     "data": {
      "text/plain": [
       "'3DAnimation'"
      ]
     },
     "execution_count": 59,
     "metadata": {},
     "output_type": "execute_result"
    }
   ],
   "source": [
    "poped_by_index"
   ]
  },
  {
   "cell_type": "code",
   "execution_count": 60,
   "id": "0a7afaae",
   "metadata": {},
   "outputs": [],
   "source": [
    "# courses clears all the values in one go. \n",
    "courses.clear()"
   ]
  },
  {
   "cell_type": "code",
   "execution_count": 61,
   "id": "846fc173",
   "metadata": {},
   "outputs": [
    {
     "data": {
      "text/plain": [
       "[]"
      ]
     },
     "execution_count": 61,
     "metadata": {},
     "output_type": "execute_result"
    }
   ],
   "source": [
    "courses"
   ]
  },
  {
   "cell_type": "markdown",
   "id": "593cf6c8",
   "metadata": {},
   "source": [
    "# Updating a list "
   ]
  },
  {
   "cell_type": "code",
   "execution_count": 98,
   "id": "8614a2c2",
   "metadata": {},
   "outputs": [
    {
     "data": {
      "text/plain": [
       "['Salad', 'Raita', 'LabeShiren', 'Biryani']"
      ]
     },
     "execution_count": 98,
     "metadata": {},
     "output_type": "execute_result"
    }
   ],
   "source": [
    "foods"
   ]
  },
  {
   "cell_type": "code",
   "execution_count": 100,
   "id": "80e899e6",
   "metadata": {},
   "outputs": [
    {
     "data": {
      "text/plain": [
       "['Salad', 'Raita', 'GulabJaman', 'Biryani']"
      ]
     },
     "execution_count": 100,
     "metadata": {},
     "output_type": "execute_result"
    }
   ],
   "source": [
    "foods[2] = 'GulabJaman'\n",
    "foods"
   ]
  },
  {
   "cell_type": "code",
   "execution_count": 62,
   "id": "2745fc18",
   "metadata": {},
   "outputs": [],
   "source": [
    "foods = ['Biryani', 'Raita','Salad','LabeShiren']"
   ]
  },
  {
   "cell_type": "code",
   "execution_count": 64,
   "id": "bcaba71c",
   "metadata": {},
   "outputs": [
    {
     "data": {
      "text/plain": [
       "1"
      ]
     },
     "execution_count": 64,
     "metadata": {},
     "output_type": "execute_result"
    }
   ],
   "source": [
    "# count return number of times a member occurs in a list\n",
    "foods.count('Raita')"
   ]
  },
  {
   "cell_type": "code",
   "execution_count": 66,
   "id": "b4f285b2",
   "metadata": {},
   "outputs": [
    {
     "data": {
      "text/plain": [
       "3"
      ]
     },
     "execution_count": 66,
     "metadata": {},
     "output_type": "execute_result"
    }
   ],
   "source": [
    "# return the index of a member\n",
    "foods.index('LabeShiren')"
   ]
  },
  {
   "cell_type": "code",
   "execution_count": 67,
   "id": "3718bb1d",
   "metadata": {},
   "outputs": [],
   "source": [
    "foods.reverse()"
   ]
  },
  {
   "cell_type": "code",
   "execution_count": 68,
   "id": "d7c7eb1a",
   "metadata": {},
   "outputs": [
    {
     "data": {
      "text/plain": [
       "['LabeShiren', 'Salad', 'Raita', 'Biryani']"
      ]
     },
     "execution_count": 68,
     "metadata": {},
     "output_type": "execute_result"
    }
   ],
   "source": [
    "foods"
   ]
  },
  {
   "cell_type": "code",
   "execution_count": 69,
   "id": "9c7b3337",
   "metadata": {},
   "outputs": [],
   "source": [
    "foods.sort()"
   ]
  },
  {
   "cell_type": "code",
   "execution_count": 70,
   "id": "714558cc",
   "metadata": {},
   "outputs": [
    {
     "data": {
      "text/plain": [
       "['Biryani', 'LabeShiren', 'Raita', 'Salad']"
      ]
     },
     "execution_count": 70,
     "metadata": {},
     "output_type": "execute_result"
    }
   ],
   "source": [
    "foods"
   ]
  },
  {
   "cell_type": "code",
   "execution_count": 71,
   "id": "52cbadb4",
   "metadata": {},
   "outputs": [],
   "source": [
    "foods.sort(reverse=True)"
   ]
  },
  {
   "cell_type": "code",
   "execution_count": 72,
   "id": "0d6df68c",
   "metadata": {},
   "outputs": [
    {
     "data": {
      "text/plain": [
       "['Salad', 'Raita', 'LabeShiren', 'Biryani']"
      ]
     },
     "execution_count": 72,
     "metadata": {},
     "output_type": "execute_result"
    }
   ],
   "source": [
    "foods"
   ]
  },
  {
   "cell_type": "code",
   "execution_count": 73,
   "id": "2ff48366",
   "metadata": {},
   "outputs": [],
   "source": [
    "nums =[23,43,12,2,67,65,78,87,90]"
   ]
  },
  {
   "cell_type": "code",
   "execution_count": 74,
   "id": "9720acfb",
   "metadata": {},
   "outputs": [
    {
     "data": {
      "text/plain": [
       "[90, 87, 78, 65, 67, 2, 12, 43, 23]"
      ]
     },
     "execution_count": 74,
     "metadata": {},
     "output_type": "execute_result"
    }
   ],
   "source": [
    "nums.reverse()\n",
    "nums"
   ]
  },
  {
   "cell_type": "code",
   "execution_count": 75,
   "id": "ba3322d4",
   "metadata": {},
   "outputs": [],
   "source": [
    "nums.sort()"
   ]
  },
  {
   "cell_type": "code",
   "execution_count": 76,
   "id": "6e4f309a",
   "metadata": {},
   "outputs": [
    {
     "data": {
      "text/plain": [
       "[2, 12, 23, 43, 65, 67, 78, 87, 90]"
      ]
     },
     "execution_count": 76,
     "metadata": {},
     "output_type": "execute_result"
    }
   ],
   "source": [
    "nums"
   ]
  },
  {
   "cell_type": "code",
   "execution_count": 79,
   "id": "24c16286",
   "metadata": {},
   "outputs": [],
   "source": [
    "nums.sort(reverse=True)"
   ]
  },
  {
   "cell_type": "code",
   "execution_count": 91,
   "id": "5f20b227",
   "metadata": {},
   "outputs": [
    {
     "data": {
      "text/plain": [
       "[90, 87, 78, 67, 65, 43, 23, 12]"
      ]
     },
     "execution_count": 91,
     "metadata": {},
     "output_type": "execute_result"
    }
   ],
   "source": [
    "nums"
   ]
  },
  {
   "cell_type": "code",
   "execution_count": 92,
   "id": "f9bfe21c",
   "metadata": {},
   "outputs": [],
   "source": [
    "mynums = nums"
   ]
  },
  {
   "cell_type": "code",
   "execution_count": 93,
   "id": "019b695b",
   "metadata": {},
   "outputs": [
    {
     "data": {
      "text/plain": [
       "2707831954112"
      ]
     },
     "execution_count": 93,
     "metadata": {},
     "output_type": "execute_result"
    }
   ],
   "source": [
    "id(nums)"
   ]
  },
  {
   "cell_type": "code",
   "execution_count": 94,
   "id": "35755afb",
   "metadata": {},
   "outputs": [
    {
     "data": {
      "text/plain": [
       "2707831954112"
      ]
     },
     "execution_count": 94,
     "metadata": {},
     "output_type": "execute_result"
    }
   ],
   "source": [
    "id(mynums)"
   ]
  },
  {
   "cell_type": "code",
   "execution_count": 95,
   "id": "22c9c83b",
   "metadata": {},
   "outputs": [],
   "source": [
    "yournums = nums.copy()"
   ]
  },
  {
   "cell_type": "code",
   "execution_count": 96,
   "id": "15e74c94",
   "metadata": {},
   "outputs": [
    {
     "data": {
      "text/plain": [
       "2707839787648"
      ]
     },
     "execution_count": 96,
     "metadata": {},
     "output_type": "execute_result"
    }
   ],
   "source": [
    "id(yournums)"
   ]
  },
  {
   "cell_type": "markdown",
   "id": "45ba5a8e",
   "metadata": {},
   "source": [
    "# List Slicing \n",
    "     - accessing(copying) a subset of list \n",
    "     - slicing return a copy of subset of list"
   ]
  },
  {
   "cell_type": "code",
   "execution_count": 102,
   "id": "34b16dad",
   "metadata": {},
   "outputs": [],
   "source": [
    "guests = ['Khala', 'Phoppo','Nasir', 'ChotayMamu','Dosri Khala', 'Umer','Mohsin','Saif','RishteWali Aunty']"
   ]
  },
  {
   "cell_type": "code",
   "execution_count": 103,
   "id": "5074eacf",
   "metadata": {},
   "outputs": [
    {
     "data": {
      "text/plain": [
       "['Nasir', 'ChotayMamu', 'Dosri Khala', 'Umer']"
      ]
     },
     "execution_count": 103,
     "metadata": {},
     "output_type": "execute_result"
    }
   ],
   "source": [
    "guests[2:6]"
   ]
  },
  {
   "cell_type": "code",
   "execution_count": 104,
   "id": "3df8880f",
   "metadata": {},
   "outputs": [
    {
     "data": {
      "text/plain": [
       "['Khala', 'Phoppo', 'Nasir', 'ChotayMamu', 'Dosri Khala']"
      ]
     },
     "execution_count": 104,
     "metadata": {},
     "output_type": "execute_result"
    }
   ],
   "source": [
    "guests[:5]"
   ]
  },
  {
   "cell_type": "code",
   "execution_count": 105,
   "id": "ddd77b49",
   "metadata": {},
   "outputs": [
    {
     "data": {
      "text/plain": [
       "['ChotayMamu', 'Dosri Khala', 'Umer', 'Mohsin', 'Saif', 'RishteWali Aunty']"
      ]
     },
     "execution_count": 105,
     "metadata": {},
     "output_type": "execute_result"
    }
   ],
   "source": [
    "guests[3:]"
   ]
  },
  {
   "cell_type": "code",
   "execution_count": 106,
   "id": "fc54c4de",
   "metadata": {},
   "outputs": [
    {
     "data": {
      "text/plain": [
       "[]"
      ]
     },
     "execution_count": 106,
     "metadata": {},
     "output_type": "execute_result"
    }
   ],
   "source": [
    "guests[8:4]"
   ]
  },
  {
   "cell_type": "code",
   "execution_count": 109,
   "id": "05667ba3",
   "metadata": {},
   "outputs": [
    {
     "data": {
      "text/plain": [
       "['Khala', 'Nasir', 'Dosri Khala', 'Mohsin', 'RishteWali Aunty']"
      ]
     },
     "execution_count": 109,
     "metadata": {},
     "output_type": "execute_result"
    }
   ],
   "source": [
    "guests[::2]# [start,end-1,step]"
   ]
  },
  {
   "cell_type": "code",
   "execution_count": 110,
   "id": "d94da325",
   "metadata": {},
   "outputs": [
    {
     "data": {
      "text/plain": [
       "['RishteWali Aunty',\n",
       " 'Saif',\n",
       " 'Mohsin',\n",
       " 'Umer',\n",
       " 'Dosri Khala',\n",
       " 'ChotayMamu',\n",
       " 'Nasir',\n",
       " 'Phoppo',\n",
       " 'Khala']"
      ]
     },
     "execution_count": 110,
     "metadata": {},
     "output_type": "execute_result"
    }
   ],
   "source": [
    "guests[::-1]"
   ]
  },
  {
   "cell_type": "code",
   "execution_count": 111,
   "id": "01f48218",
   "metadata": {},
   "outputs": [
    {
     "data": {
      "text/plain": [
       "['RishteWali Aunty', 'Saif', 'Mohsin', 'Umer']"
      ]
     },
     "execution_count": 111,
     "metadata": {},
     "output_type": "execute_result"
    }
   ],
   "source": [
    "guests[8:4:-1]"
   ]
  },
  {
   "cell_type": "code",
   "execution_count": null,
   "id": "fa28b857",
   "metadata": {},
   "outputs": [],
   "source": [
    "guests = ['Khala', 'Phoppo','Nasir', 'ChotayMamu','Dosri Khala', 'Umer','Mohsin','Saif','RishteWali Aunty']"
   ]
  },
  {
   "cell_type": "code",
   "execution_count": 112,
   "id": "751dafbc",
   "metadata": {},
   "outputs": [
    {
     "data": {
      "text/plain": [
       "[]"
      ]
     },
     "execution_count": 112,
     "metadata": {},
     "output_type": "execute_result"
    }
   ],
   "source": [
    "guests[4:8:-2]"
   ]
  },
  {
   "cell_type": "code",
   "execution_count": 113,
   "id": "406399da",
   "metadata": {},
   "outputs": [
    {
     "data": {
      "text/plain": [
       "['RishteWali Aunty']"
      ]
     },
     "execution_count": 113,
     "metadata": {},
     "output_type": "execute_result"
    }
   ],
   "source": [
    "guests[-1:7:-1]"
   ]
  },
  {
   "cell_type": "code",
   "execution_count": null,
   "id": "66df279e",
   "metadata": {},
   "outputs": [],
   "source": []
  }
 ],
 "metadata": {
  "kernelspec": {
   "display_name": "Python 3 (ipykernel)",
   "language": "python",
   "name": "python3"
  },
  "language_info": {
   "codemirror_mode": {
    "name": "ipython",
    "version": 3
   },
   "file_extension": ".py",
   "mimetype": "text/x-python",
   "name": "python",
   "nbconvert_exporter": "python",
   "pygments_lexer": "ipython3",
   "version": "3.11.5"
  }
 },
 "nbformat": 4,
 "nbformat_minor": 5
}
