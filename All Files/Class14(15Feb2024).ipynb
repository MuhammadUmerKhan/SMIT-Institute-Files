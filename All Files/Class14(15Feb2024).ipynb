{
 "cells": [
  {
   "cell_type": "markdown",
   "id": "cc0726a0",
   "metadata": {},
   "source": [
    "# While Loop\n",
    "    - no need of collection\n",
    "    - while loop runs on condition"
   ]
  },
  {
   "cell_type": "code",
   "execution_count": null,
   "id": "96147acc",
   "metadata": {},
   "outputs": [],
   "source": [
    "guests=[]\n",
    "\n",
    "guest = input(\"Enter guest name\")\n",
    "guests.append(guest)"
   ]
  },
  {
   "cell_type": "code",
   "execution_count": null,
   "id": "86ccc0ea",
   "metadata": {},
   "outputs": [],
   "source": [
    "sayHello()"
   ]
  },
  {
   "cell_type": "code",
   "execution_count": null,
   "id": "3140ce16",
   "metadata": {},
   "outputs": [],
   "source": [
    "for a in range(5):\n",
    "    guest = input(\"Enter guest name\")\n",
    "    guests.append(guest)\n",
    "   "
   ]
  },
  {
   "cell_type": "code",
   "execution_count": null,
   "id": "8960b107",
   "metadata": {},
   "outputs": [],
   "source": [
    "guests"
   ]
  },
  {
   "cell_type": "code",
   "execution_count": null,
   "id": "38e8e8a8",
   "metadata": {},
   "outputs": [],
   "source": [
    "for a in range(5):\n",
    "    guest = input(\"Enter guest name\")\n",
    "    if guest == \"q\":\n",
    "        break\n",
    "    else:\n",
    "        guests.append(guest)"
   ]
  },
  {
   "cell_type": "code",
   "execution_count": null,
   "id": "11c8581c",
   "metadata": {},
   "outputs": [],
   "source": [
    "guests"
   ]
  },
  {
   "cell_type": "code",
   "execution_count": null,
   "id": "55aebc3b",
   "metadata": {},
   "outputs": [],
   "source": [
    "a=0\n",
    "while a<10:\n",
    "    print(a,\"Hello\")\n",
    "    a +=1"
   ]
  },
  {
   "cell_type": "code",
   "execution_count": null,
   "id": "153d6731",
   "metadata": {},
   "outputs": [],
   "source": []
  },
  {
   "cell_type": "code",
   "execution_count": null,
   "id": "3e08364a",
   "metadata": {},
   "outputs": [],
   "source": [
    "count = 0\n",
    "\n",
    "while count<4:\n",
    "    guest = input(\"Enter guest name\")\n",
    "    if guest == \"q\":\n",
    "        break\n",
    "    else:\n",
    "        guests.append(guest)\n",
    "    count+=1 "
   ]
  },
  {
   "cell_type": "code",
   "execution_count": null,
   "id": "4b6ac938",
   "metadata": {},
   "outputs": [],
   "source": [
    "guests = []"
   ]
  },
  {
   "cell_type": "code",
   "execution_count": null,
   "id": "2c56b74b",
   "metadata": {},
   "outputs": [],
   "source": [
    "while True:\n",
    "    guest = input(\"Enter guest name\")\n",
    "    if guest == \"q\":\n",
    "        break\n",
    "    else:\n",
    "        guests.append(guest)\n",
    "    count+=1 "
   ]
  },
  {
   "cell_type": "code",
   "execution_count": null,
   "id": "ae5a8e49",
   "metadata": {},
   "outputs": [],
   "source": [
    "light = True\n",
    "while light:\n",
    "    guest = input(\"Enter guest name\")\n",
    "    if guest == \"q\":\n",
    "        light=False\n",
    "    else:\n",
    "        guests.append(guest)    "
   ]
  },
  {
   "cell_type": "code",
   "execution_count": null,
   "id": "77c40e0b",
   "metadata": {},
   "outputs": [],
   "source": [
    "guests"
   ]
  },
  {
   "cell_type": "markdown",
   "id": "aacfdece",
   "metadata": {},
   "source": [
    "# Functions"
   ]
  },
  {
   "cell_type": "code",
   "execution_count": null,
   "id": "41520a88",
   "metadata": {},
   "outputs": [],
   "source": [
    "# function definition\n",
    "def sayHello():\n",
    "    print(\"Hello!\")"
   ]
  },
  {
   "cell_type": "code",
   "execution_count": null,
   "id": "ade2c8aa",
   "metadata": {},
   "outputs": [],
   "source": [
    "# function call\n",
    "sayHello()"
   ]
  },
  {
   "cell_type": "code",
   "execution_count": null,
   "id": "db0a0917",
   "metadata": {},
   "outputs": [],
   "source": [
    "def addNumbers():\n",
    "    # local vairables: scope inside a body\n",
    "    a = 100\n",
    "    b = 200\n",
    "    print(a+b)"
   ]
  },
  {
   "cell_type": "code",
   "execution_count": null,
   "id": "b3ee00bd",
   "metadata": {},
   "outputs": [],
   "source": [
    "addNumbers()"
   ]
  },
  {
   "cell_type": "code",
   "execution_count": null,
   "id": "316184d8",
   "metadata": {},
   "outputs": [],
   "source": [
    "addNumbers()"
   ]
  },
  {
   "cell_type": "code",
   "execution_count": null,
   "id": "ece754b2",
   "metadata": {},
   "outputs": [],
   "source": [
    "# since a is local variable wull be be accessible outside the function\n",
    "print(a)"
   ]
  },
  {
   "cell_type": "code",
   "execution_count": null,
   "id": "8bf9b3f4",
   "metadata": {},
   "outputs": [],
   "source": [
    "a = 500\n",
    "b = 100\n",
    "print(a+b)"
   ]
  },
  {
   "cell_type": "code",
   "execution_count": null,
   "id": "72f59a53",
   "metadata": {},
   "outputs": [],
   "source": [
    "addNumbers()"
   ]
  },
  {
   "cell_type": "code",
   "execution_count": null,
   "id": "fc2bf92b",
   "metadata": {},
   "outputs": [],
   "source": [
    "def taxCalc():\n",
    "    annual_income = int(input(\"Enter your annual taxable income\"))\n",
    "    if annual_income >= 5000000:\n",
    "        tax = annual_income*.25\n",
    "    elif annual_income>=3000000:\n",
    "        tax = annual_income*.15\n",
    "    elif annual_income>=2500000:\n",
    "        tax = annual_income*.12\n",
    "    elif annual_income>=2000000:\n",
    "        tax = annual_income*.10\n",
    "    elif annual_income>=1000000:\n",
    "        tax = annual_income*.05\n",
    "    else:\n",
    "        tax = annual_income*.03\n",
    "    print(f\"Your annual tax in {annual_income} is {tax}\")"
   ]
  },
  {
   "cell_type": "code",
   "execution_count": null,
   "id": "9924b817",
   "metadata": {},
   "outputs": [],
   "source": [
    "taxCalc()"
   ]
  },
  {
   "cell_type": "markdown",
   "id": "0fecb54f",
   "metadata": {},
   "source": [
    "# Arguments and Parameters "
   ]
  },
  {
   "cell_type": "code",
   "execution_count": null,
   "id": "df9599c7",
   "metadata": {},
   "outputs": [],
   "source": [
    "# parameter less \n",
    "taxCalc()"
   ]
  },
  {
   "cell_type": "code",
   "execution_count": null,
   "id": "3e746d52",
   "metadata": {},
   "outputs": [],
   "source": [
    "def sayHello(name):# parameter\n",
    "    print(\"Hello!\")"
   ]
  },
  {
   "cell_type": "code",
   "execution_count": null,
   "id": "022b2828",
   "metadata": {},
   "outputs": [],
   "source": [
    "sayHello()"
   ]
  },
  {
   "cell_type": "code",
   "execution_count": null,
   "id": "313642b2",
   "metadata": {},
   "outputs": [],
   "source": [
    "# argument\n",
    "sayHello(\"Yasir\")"
   ]
  },
  {
   "cell_type": "code",
   "execution_count": 3,
   "id": "fc1fb073",
   "metadata": {},
   "outputs": [],
   "source": [
    "def vowel_conter(para):\n",
    "      \n",
    "    vowels = ['a','e','i','o','u']    \n",
    "    for vowel in vowels:\n",
    "        if vowel=='a':\n",
    "            a = para.lower().count('a')\n",
    "        elif vowel=='e':\n",
    "            e = para.lower().count('e')\n",
    "        elif vowel=='i':\n",
    "            i = para.lower().count('i')\n",
    "        elif vowel=='o':\n",
    "            o = para.lower().count('o')\n",
    "        elif vowel=='u':\n",
    "            u = para.lower().count('u')            \n",
    "        \n",
    "    print(f\"\"\"\n",
    "              A: {a}\n",
    "              E: {e}\n",
    "              I: {i}\n",
    "              O: {o}\n",
    "              U: {u} \"\"\")"
   ]
  },
  {
   "cell_type": "code",
   "execution_count": 2,
   "id": "3ad6ab7d",
   "metadata": {},
   "outputs": [
    {
     "name": "stdout",
     "output_type": "stream",
     "text": [
      "\n",
      "              A: 13\n",
      "              E: 12\n",
      "              I: 8\n",
      "              O: 6\n",
      "              U: 0 \n"
     ]
    }
   ],
   "source": [
    "vowel_conter('Dear Omair,Attached is the revised Invoice for the Cost of Sample plates for the Technical Awards.RegardsSaira Nasir')"
   ]
  },
  {
   "cell_type": "code",
   "execution_count": 4,
   "id": "f36ceab6",
   "metadata": {},
   "outputs": [
    {
     "name": "stdout",
     "output_type": "stream",
     "text": [
      "\n",
      "              A: 18\n",
      "              E: 24\n",
      "              I: 14\n",
      "              O: 17\n",
      "              U: 9 \n"
     ]
    }
   ],
   "source": [
    "vowel_conter(\"n publishing and graphic design, Lorem ipsum is a placeholder text commonly used to demonstrate the visual form of a document or a typeface without relying on meaningful content. Lorem ipsum may be used as a placeholder before the final copy is available.\")"
   ]
  },
  {
   "cell_type": "code",
   "execution_count": 5,
   "id": "cbd843d0",
   "metadata": {},
   "outputs": [],
   "source": [
    "def greaterNum(num1,num2):\n",
    "    if num1>num2:\n",
    "        print(f\"{num1} is greater\")\n",
    "    elif num2>num1:\n",
    "        print(f\"{num2} is greater\")\n",
    "    else:\n",
    "        print(\"both num are equal\")"
   ]
  },
  {
   "cell_type": "code",
   "execution_count": 6,
   "id": "b16429f9",
   "metadata": {},
   "outputs": [
    {
     "name": "stdout",
     "output_type": "stream",
     "text": [
      "15 is greater\n"
     ]
    }
   ],
   "source": [
    "greaterNum(15,10)"
   ]
  },
  {
   "cell_type": "code",
   "execution_count": 24,
   "id": "65984d19",
   "metadata": {},
   "outputs": [],
   "source": [
    "def taxCalc(annual_income):\n",
    "    if annual_income >= 5000000:\n",
    "        tax = annual_income*.25\n",
    "    elif annual_income>=3000000:\n",
    "        tax = annual_income*.15\n",
    "    elif annual_income>=2500000:\n",
    "        tax = annual_income*.12\n",
    "    elif annual_income>=2000000:\n",
    "        tax = annual_income*.10\n",
    "    elif annual_income>=1000000:\n",
    "        tax = annual_income*.05\n",
    "    else:\n",
    "        tax = annual_income*.03\n",
    "    return tax"
   ]
  },
  {
   "cell_type": "code",
   "execution_count": 25,
   "id": "9390ec6f",
   "metadata": {},
   "outputs": [],
   "source": [
    "def salaryDisbursement(annual_income,tax):    \n",
    "    gross = annual_income-tax    \n",
    "    return gross,tax\n",
    "    "
   ]
  },
  {
   "cell_type": "code",
   "execution_count": 26,
   "id": "f86d700a",
   "metadata": {},
   "outputs": [],
   "source": [
    "gross, tax  = salaryDisbursement(1200000, taxCalc(1200000))"
   ]
  },
  {
   "cell_type": "code",
   "execution_count": 27,
   "id": "ca7d95da",
   "metadata": {},
   "outputs": [
    {
     "data": {
      "text/plain": [
       "1140000.0"
      ]
     },
     "execution_count": 27,
     "metadata": {},
     "output_type": "execute_result"
    }
   ],
   "source": [
    "gross"
   ]
  },
  {
   "cell_type": "code",
   "execution_count": 28,
   "id": "db933324",
   "metadata": {},
   "outputs": [
    {
     "data": {
      "text/plain": [
       "60000.0"
      ]
     },
     "execution_count": 28,
     "metadata": {},
     "output_type": "execute_result"
    }
   ],
   "source": [
    "tax"
   ]
  },
  {
   "cell_type": "markdown",
   "id": "0d3a2397",
   "metadata": {},
   "source": [
    "# Positional arguments and parameters "
   ]
  },
  {
   "cell_type": "code",
   "execution_count": 30,
   "id": "0eebb138",
   "metadata": {},
   "outputs": [],
   "source": [
    "# positional Arguments\n",
    "def abc(a,b,c,d):\n",
    "    print(a,b,c,d)"
   ]
  },
  {
   "cell_type": "code",
   "execution_count": 31,
   "id": "affb89e4",
   "metadata": {},
   "outputs": [
    {
     "name": "stdout",
     "output_type": "stream",
     "text": [
      "100 200 300 400\n"
     ]
    }
   ],
   "source": [
    "abc(100,200,300,400)"
   ]
  },
  {
   "cell_type": "code",
   "execution_count": 32,
   "id": "69a35b45",
   "metadata": {},
   "outputs": [],
   "source": [
    "# keyword arguments\n",
    "def abc(a,b,c,d):\n",
    "    print(a,b,c,d)"
   ]
  },
  {
   "cell_type": "code",
   "execution_count": 33,
   "id": "6829d724",
   "metadata": {},
   "outputs": [
    {
     "name": "stdout",
     "output_type": "stream",
     "text": [
      "5 12 56 0\n"
     ]
    }
   ],
   "source": [
    "abc(b=12,c=56,a=5,d=0)"
   ]
  },
  {
   "cell_type": "code",
   "execution_count": null,
   "id": "7310a844",
   "metadata": {},
   "outputs": [],
   "source": [
    "# default paramter"
   ]
  }
 ],
 "metadata": {
  "kernelspec": {
   "display_name": "Python 3 (ipykernel)",
   "language": "python",
   "name": "python3"
  },
  "language_info": {
   "codemirror_mode": {
    "name": "ipython",
    "version": 3
   },
   "file_extension": ".py",
   "mimetype": "text/x-python",
   "name": "python",
   "nbconvert_exporter": "python",
   "pygments_lexer": "ipython3",
   "version": "3.11.5"
  }
 },
 "nbformat": 4,
 "nbformat_minor": 5
}
